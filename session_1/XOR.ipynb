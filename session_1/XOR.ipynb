{
 "cells": [
  {
   "cell_type": "markdown",
   "id": "f3a43468-4eec-4988-8ef6-9a290acaecde",
   "metadata": {},
   "source": [
    "# Solving the `XOR-Gate` with `Keras`"
   ]
  },
  {
   "cell_type": "markdown",
   "id": "92c1f0c2-dd9e-48b2-a74d-c0a73602e951",
   "metadata": {},
   "source": [
    "The **[XOR-Gate](https://en.wikipedia.org/wiki/XOR_gate)** or **Exclusive-OR gate** is a digital logical gate which takes in two values, which can be either $0$ and $1$, and outputs $1$ when one of the values is $1$ and the other one $0$. Else it outputs $0$. \n",
    "\n",
    "We can write this with logical operators as:"
   ]
  },
  {
   "cell_type": "markdown",
   "id": "c9eae152-cbb5-4077-bc9a-16ef75b4d5cb",
   "metadata": {},
   "source": [
    "*A **XOR** B = (A **AND NOT** B) **OR** (**NOT** A **AND** B)*"
   ]
  },
  {
   "cell_type": "markdown",
   "id": "c2c37fbe-6881-4aec-abe5-dcb897d088c2",
   "metadata": {},
   "source": [
    "All possible combinations of inputs and corresponding outputs are summarized in the table below."
   ]
  },
  {
   "cell_type": "markdown",
   "id": "795e17bd-c09b-4413-b355-b326c08f561e",
   "metadata": {},
   "source": [
    "| Input A | Input B | A XOR B |\n",
    "|---------|---------|---------|\n",
    "|    0    |    0    |    0    |\n",
    "|    0    |    1    |    1    |\n",
    "|    1    |    0    |    1    |\n",
    "|    1    |    1    |    0    |\n"
   ]
  },
  {
   "cell_type": "markdown",
   "id": "6312f186-d09d-4a19-b611-ee045eef1390",
   "metadata": {},
   "source": [
    "This problem can famously not be solved by the simple perceptron with only one layer but can be solved by a multi-layered perceptron. The failure of the initial simple perceptron was pointed out by *[Marvin Minsky](https://de.wikipedia.org/wiki/Marvin_Minsky)*, which led to the first AI Winter."
   ]
  },
  {
   "cell_type": "markdown",
   "id": "297c6eb6-8e24-466a-beaa-70cf517aed94",
   "metadata": {},
   "source": [
    "In order to solve this famous problem with `Keras` execute the cell below."
   ]
  },
  {
   "cell_type": "code",
   "execution_count": null,
   "id": "68414e0b-7d5e-4883-9f22-7190a66fb80c",
   "metadata": {},
   "outputs": [],
   "source": [
    "import time                                      # library for time measurement\n",
    "import numpy as np                               # Numerical Python for arrays\n",
    "from tensorflow.keras.models import Sequential   # Keras library for building the neural network\n",
    "from tensorflow.keras.layers import Dense\n",
    "from tensorflow.keras.optimizers import SGD\n",
    "\n",
    "start = time.time()                              # Start timer\n",
    "\n",
    "# XOR-Input\n",
    "X = np.array([[0,0], [0,1], [1,0], [1,1]])\n",
    "# XOR-Output\n",
    "y = np.array([[0], [1], [1], [0]])\n",
    "\n",
    "# Create model in Keras\n",
    "model = Sequential()\n",
    "model.add(Dense(4, input_dim=2, activation='tanh'))  # Input layer with 2 neurons, hidden layer with 4 neurons\n",
    "model.add(Dense(1, activation='sigmoid'))            # Output layer with 1 neuron\n",
    "\n",
    "# Compile model\n",
    "model.compile(optimizer=SGD(learning_rate=0.1), loss='binary_crossentropy', metrics=['accuracy'])\n",
    "\n",
    "# Train model\n",
    "model.fit(X, y, epochs=10000, verbose=0)\n",
    "\n",
    "# Evaluation of accuracy of the model\n",
    "loss, accuracy = model.evaluate(X, y, verbose=0)\n",
    "print(f\"Test Accuracy: {accuracy:.2f}\")\n",
    "\n",
    "# Predictions\n",
    "predictions = model.predict(X, verbose=0)\n",
    "\n",
    "print()\n",
    "print('Actual predictions:')\n",
    "print(predictions)\n",
    "\n",
    "print()\n",
    "print('Rounded predictions:')\n",
    "print(np.round(predictions))\n",
    "\n",
    "end = time.time()  # Stop timer\n",
    "print(f\"Execution time: {end - start:.2f} seconds\")"
   ]
  },
  {
   "cell_type": "code",
   "execution_count": null,
   "id": "438d60a7-f1da-4c7f-9f79-8f6fbe73712b",
   "metadata": {},
   "outputs": [],
   "source": []
  }
 ],
 "metadata": {
  "kernelspec": {
   "display_name": "Python 3 (ipykernel)",
   "language": "python",
   "name": "python3"
  },
  "language_info": {
   "codemirror_mode": {
    "name": "ipython",
    "version": 3
   },
   "file_extension": ".py",
   "mimetype": "text/x-python",
   "name": "python",
   "nbconvert_exporter": "python",
   "pygments_lexer": "ipython3",
   "version": "3.10.8"
  }
 },
 "nbformat": 4,
 "nbformat_minor": 5
}
