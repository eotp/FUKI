{
 "cells": [
  {
   "cell_type": "markdown",
   "id": "1928930c-d590-4eab-aec6-79f4a6f6eb40",
   "metadata": {},
   "source": [
    "Zielsetzung möglichst zugängliche Darstellung der Inhalte!"
   ]
  },
  {
   "cell_type": "markdown",
   "id": "b3d001be-eefb-4e7d-98e1-49684f6c5010",
   "metadata": {},
   "source": [
    "### Lesson $1$"
   ]
  },
  {
   "cell_type": "markdown",
   "id": "c2d1a064-bfa8-4064-8a62-b69d68afa145",
   "metadata": {},
   "source": [
    "Get to know, Python Environment aufsetzen"
   ]
  },
  {
   "cell_type": "markdown",
   "id": "6d7040da-a97c-4b97-a76e-1158f3ad5aed",
   "metadata": {},
   "source": [
    "Bedienung der shell"
   ]
  },
  {
   "cell_type": "markdown",
   "id": "8d428bbe-6f87-4c72-98ba-b8d91da07b0f",
   "metadata": {},
   "source": [
    "Was ist Machine Learning? Wofür kann man es einsetzen?"
   ]
  },
  {
   "cell_type": "markdown",
   "id": "92ac9b43-1309-49d9-8337-561e92f74e12",
   "metadata": {},
   "source": [
    "### Lesson $2$"
   ]
  },
  {
   "cell_type": "markdown",
   "id": "5d3a1d0b-bec3-44a3-9e76-8429e5c80238",
   "metadata": {},
   "source": [
    "Für den Einsatz von ML benötigten Grundlagen von Python"
   ]
  },
  {
   "cell_type": "markdown",
   "id": "bcacbf05-a64d-44f0-af28-2ee88ec1d519",
   "metadata": {},
   "source": [
    "Python 101"
   ]
  },
  {
   "cell_type": "markdown",
   "id": "b5bba3a5-389d-4cf9-a484-caf9f4ac2020",
   "metadata": {},
   "source": [
    "Variablen, Datentypen, Imports, Selektion, Funktionen, if- Bedingung, for-Schleifen"
   ]
  },
  {
   "cell_type": "markdown",
   "id": "2a3c2a73-fb7d-4a2c-af8c-08f7b413b220",
   "metadata": {},
   "source": [
    "### Lesson $3$"
   ]
  },
  {
   "cell_type": "markdown",
   "id": "c3ed4e3d-f946-4a17-85fb-2240ce963133",
   "metadata": {},
   "source": [
    "Der Machine-Learning Prozess"
   ]
  },
  {
   "cell_type": "markdown",
   "id": "eb7d2f0f-641d-4200-94e9-2924f8067cff",
   "metadata": {},
   "source": [
    "evt. an dieser Stelle Pandas"
   ]
  },
  {
   "cell_type": "markdown",
   "id": "1895ba08-c493-4cd6-a3ac-2778a7055c10",
   "metadata": {},
   "source": [
    "Beispiel: Explorative Datenanalyse"
   ]
  },
  {
   "cell_type": "markdown",
   "id": "8daabdb7-dbee-47c1-a058-da2569b56361",
   "metadata": {},
   "source": [
    "Bearbeiten, Vorbereiten und Bereinigen von Daten"
   ]
  },
  {
   "cell_type": "markdown",
   "id": "0ed36595-1cac-442d-a0fa-6f20ae333777",
   "metadata": {},
   "source": [
    "### Lesson $4$"
   ]
  },
  {
   "cell_type": "markdown",
   "id": "081202d3-8b94-412e-bce3-e465ee9532fd",
   "metadata": {},
   "source": [
    "(einfache) Lineare Regression anhand von Beispiel (from scratch)"
   ]
  },
  {
   "cell_type": "markdown",
   "id": "00cac60d-beb5-4a81-93c1-8fcaa674af02",
   "metadata": {},
   "source": [
    "Training des Modells an Daten (from scratch training-split)"
   ]
  },
  {
   "cell_type": "markdown",
   "id": "49882cc7-34b7-42c2-a2aa-7e639ee9b635",
   "metadata": {},
   "source": [
    "Lernen des Modells durch Anpassen der Kostenfunktion (MSE)"
   ]
  },
  {
   "cell_type": "markdown",
   "id": "0281ad85-a8ff-466b-955f-1a70f712f52a",
   "metadata": {},
   "source": [
    "(einfache) Lineare Regression in sci-kit learn"
   ]
  },
  {
   "cell_type": "markdown",
   "id": "4d3a3bff-1343-4c13-a0d0-ec9a51ab38db",
   "metadata": {},
   "source": [
    "### Lesson $5$"
   ]
  },
  {
   "cell_type": "markdown",
   "id": "2f884b5e-e280-4329-aaad-d0e9c655e406",
   "metadata": {},
   "source": [
    "polynomiale Regression als Verallgemeinerung der linearen Regression"
   ]
  },
  {
   "cell_type": "markdown",
   "id": "931f5525-3763-4174-b2f9-b09df768d361",
   "metadata": {},
   "source": [
    "polynomiale Regression in sci-kit learn"
   ]
  },
  {
   "cell_type": "markdown",
   "id": "e3f4d562-2040-4d65-ac88-8a0a643fc14f",
   "metadata": {},
   "source": [
    "Hyperparameter, Kreuzvalidierung zur Modellbewertung"
   ]
  },
  {
   "cell_type": "markdown",
   "id": "90d0cbcc-c776-48e3-9e1d-451347255bed",
   "metadata": {},
   "source": [
    "Under-, Overfitting Problem"
   ]
  },
  {
   "cell_type": "markdown",
   "id": "4a1ad449-11ec-4724-88e7-24d64f23837e",
   "metadata": {},
   "source": [
    "Überblick über klassische Maschine Learning Modelle"
   ]
  },
  {
   "cell_type": "markdown",
   "id": "53adb18c-5f3a-430f-9afb-6590336a5f20",
   "metadata": {},
   "source": [
    "### Lesson $6$"
   ]
  },
  {
   "cell_type": "markdown",
   "id": "66d822b5-726e-4541-9cd7-568cf51d8b2c",
   "metadata": {},
   "source": [
    "Erster Ausblick auf neuronale Netzwerke:"
   ]
  },
  {
   "cell_type": "markdown",
   "id": "dc870b76-881d-47dd-b96d-c524b2d14bd4",
   "metadata": {},
   "source": [
    "Neuronale Netzwerke anhand von Perzeptron\n",
    "\n",
    "Aufbau, Gewichte, Aktivierungsfunktion\n",
    "\n",
    "einfache Lernregeln from scratch in Python"
   ]
  },
  {
   "cell_type": "markdown",
   "id": "f7385fda-d658-4e4e-8c9e-867bf284492d",
   "metadata": {},
   "source": [
    "Keras oder Pytorch? Grundlagen\n",
    "\n",
    "Syntax\n",
    "\n",
    "einfaches Netzwerk bauen\n",
    "\n",
    "mehrere Beispiele"
   ]
  },
  {
   "cell_type": "markdown",
   "id": "1556472f-d0b3-441a-8da3-12b236ba8330",
   "metadata": {},
   "source": [
    "### Lesson $7$"
   ]
  },
  {
   "cell_type": "markdown",
   "id": "8fa2cc93-3b0b-40c8-bb83-1af11f327ad9",
   "metadata": {},
   "source": [
    "mathematische Grundlagen von neuronalen Netzwerken:\n",
    "\n",
    "Gradientenabstieg in 2 dimensionen anhand von einfachen Bsp´s\n",
    "\n",
    "Nachbauen von Gradientenabstieg in Python\n",
    "\n",
    "Erklärung stochastisches Gradientenabstiegsverfahren\n",
    "\n",
    "numerische Kurvendiskussion vs. analytische Lösung"
   ]
  },
  {
   "cell_type": "markdown",
   "id": "b086d4ef-f053-4787-b5a5-983ad6a1bc7e",
   "metadata": {},
   "source": [
    "### Lesson $8$"
   ]
  },
  {
   "cell_type": "markdown",
   "id": "d80edda9-d928-46d8-a9f1-6f120aa4127f",
   "metadata": {},
   "source": [
    "(Projekt/Gruppenarbeit ein neuronales Netzwerk bauen)"
   ]
  },
  {
   "cell_type": "markdown",
   "id": "a9789498-d0ea-4a02-8322-87c7aa7e4d12",
   "metadata": {},
   "source": [
    "### Lesson $9$"
   ]
  },
  {
   "cell_type": "markdown",
   "id": "0455b954-6981-4d29-af33-5676381f0cdf",
   "metadata": {},
   "source": [
    "Kurze mathematische Erklärung Backpropagation, Lernprozess als schrittweise Anpassung der Gewichte\n",
    "\n",
    "Backpropagation - Step by Step\n",
    "\n",
    "Nachbauen eines einfachen neuronalen Netzwerks from scratch"
   ]
  },
  {
   "cell_type": "markdown",
   "id": "fa2505d8-404f-4c4b-80b6-aad7aa1b4d76",
   "metadata": {},
   "source": [
    "### Lesson $10$"
   ]
  },
  {
   "cell_type": "markdown",
   "id": "a00e0e6d-2de5-43ea-9ba5-af9193e39706",
   "metadata": {},
   "source": [
    "Präsentation der Gruppenarbeit"
   ]
  },
  {
   "cell_type": "markdown",
   "id": "d3892160-6166-4fe9-93b1-7cd32ec44771",
   "metadata": {},
   "source": [
    "### Lesson $11$"
   ]
  },
  {
   "cell_type": "markdown",
   "id": "943a3ae4-4dc3-457e-ae55-0d60c12b6807",
   "metadata": {},
   "source": [
    "Spezielle Formen von neuronalen Netzwerken\n",
    "\n",
    "CNN´s - Grundlegender Aufbau, Filter, Wie lernen CNN´s Formen zu erkennen?\n",
    "\n",
    "Beispiel: MNIST mit CNN im Vergleich zu klassischem Netzwerk?"
   ]
  },
  {
   "cell_type": "markdown",
   "id": "9d944eee-a297-4447-bb50-9ceb6d1f0d80",
   "metadata": {},
   "source": [
    "### Lesson $12$"
   ]
  },
  {
   "cell_type": "markdown",
   "id": "60aed053-478e-4ffb-aa89-5193205c9998",
   "metadata": {},
   "source": [
    "RNN´s - Grundlegender Aufbau, Verarbeitung von Sequenzen\n",
    "\n",
    "Aufrollen in der Zeit - BPTT (in simple words no math!)\n",
    "\n",
    "Beispiel: Zeitreihen prognostizieren"
   ]
  },
  {
   "cell_type": "markdown",
   "id": "416a5c90-2db3-41da-80f8-c4edf09ccd47",
   "metadata": {},
   "source": [
    "### Lesson $13$"
   ]
  },
  {
   "cell_type": "markdown",
   "id": "5e049151-874f-412a-a90a-02daa816dd9c",
   "metadata": {},
   "source": [
    "Geschichte und Grundlagen von Transformermodellen\n",
    "\n",
    "evt. Embeddings\n",
    "\n",
    "Attention\n",
    "\n",
    "Self-attention anhand von einfachen Beispielen (high level)"
   ]
  },
  {
   "cell_type": "markdown",
   "id": "fc2e043b-e3b5-4450-aecb-ac2211207197",
   "metadata": {},
   "source": [
    "Sprachmodelle BERT\n",
    "\n",
    "Grundlagen\n",
    "\n",
    "Syntax\n",
    "\n",
    "Anwendung\n",
    "\n",
    "Trainieren an neuen Daten"
   ]
  },
  {
   "cell_type": "markdown",
   "id": "1e891e7c-a61a-4ecc-9b04-ffd1a602497d",
   "metadata": {},
   "source": [
    "Fortführend: Vertiefung Mathematik, Regularisierung, RNN-Sequenzverarbeitung, CNN-Bildverarbeitung, Transformer-Sprachmodelle"
   ]
  }
 ],
 "metadata": {
  "kernelspec": {
   "display_name": "Python 3 (ipykernel)",
   "language": "python",
   "name": "python3"
  },
  "language_info": {
   "codemirror_mode": {
    "name": "ipython",
    "version": 3
   },
   "file_extension": ".py",
   "mimetype": "text/x-python",
   "name": "python",
   "nbconvert_exporter": "python",
   "pygments_lexer": "ipython3",
   "version": "3.9.0"
  }
 },
 "nbformat": 4,
 "nbformat_minor": 5
}
