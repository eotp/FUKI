{
 "cells": [
  {
   "cell_type": "markdown",
   "id": "038ff478-cbf6-4fcc-8c1d-d8ab439a4f4b",
   "metadata": {},
   "source": [
    "# `Python` 101 - An Introduction to `Python`"
   ]
  },
  {
   "cell_type": "markdown",
   "id": "7edc306a-1ec2-4788-aa52-0012eea39249",
   "metadata": {},
   "source": [
    "## 1. Data Types\n",
    "\n",
    "The most basic component of any programming language are \"things\", also called **variables** or\n",
    "(in special cases) objects.\n",
    "\n",
    "The most common basic variables in `Python` are integers, **floats**, **strings**, **booleans**, and\n",
    "some special more **complex data types**. We'll meet many of these as we go through the lesson."
   ]
  },
  {
   "cell_type": "markdown",
   "id": "2896c154-49d9-4af8-9168-1d4996270ff8",
   "metadata": {},
   "source": [
    "__TIP:__ To run the code in a cell quickly, press Ctrl-Enter."
   ]
  },
  {
   "cell_type": "markdown",
   "id": "e613a77a-ad12-4b1b-bd65-e9de45922a59",
   "metadata": {},
   "source": [
    "__TIP:__ To run the code in a cell and go to next cell, press Shift-Enter."
   ]
  },
  {
   "cell_type": "markdown",
   "id": "45fcb412-5dbf-4fe3-890a-17a6da4e558e",
   "metadata": {},
   "source": [
    "We can us `Python` as a calculator by typing in values and an **arithmetic operator :** ( + , - , / , *)."
   ]
  },
  {
   "cell_type": "code",
   "execution_count": null,
   "id": "53f034ef-a723-4dda-9a4b-8b8b5dd5de68",
   "metadata": {},
   "outputs": [],
   "source": [
    "# A thing\n",
    "2+5"
   ]
  },
  {
   "cell_type": "code",
   "execution_count": null,
   "id": "6da16015-c024-48cc-8d39-d12d57676404",
   "metadata": {},
   "outputs": [],
   "source": [
    "(1 + 2) / (3 + 4)"
   ]
  },
  {
   "cell_type": "markdown",
   "id": "ce9431a9-069d-4c93-a7f3-1754261be4fc",
   "metadata": {},
   "source": [
    "We are now going to learn our first built-in function in `Python`: the `print()`function. `print()` can be used to output variables back to the user as is shown in the following example:"
   ]
  },
  {
   "cell_type": "code",
   "execution_count": null,
   "id": "f26ba31f-6b97-4a8f-9d2e-86eb13a1b81f",
   "metadata": {},
   "outputs": [],
   "source": [
    "# Use print to show multiple things in the same cell\n",
    "# Note that you can use single or double quotes for strings\n",
    "print(2)\n",
    "print(5)\n",
    "print(\"Hello, World\")"
   ]
  },
  {
   "cell_type": "markdown",
   "id": "4dc575a6-942c-4f17-ad41-d7f1aad58e96",
   "metadata": {},
   "source": [
    "Note that the outputs are not saved in a variable! In order to do so we have to assign a variable name by using `=`. For example let us assign variables `a, b, c, d, e` containing an integer, string, boolean and list data type."
   ]
  },
  {
   "cell_type": "code",
   "execution_count": null,
   "id": "47f10067-f1c8-402f-9b0a-f0334283f171",
   "metadata": {},
   "outputs": [],
   "source": [
    "a = 2\n",
    "b = \"Hello\"\n",
    "c = True\n",
    "d = 2.0\n",
    "e = [a,c,d]\n",
    "print('integer :',a, ', string :', b, ', boolean :', c, ', float :', d, ', list :', e)"
   ]
  },
  {
   "cell_type": "markdown",
   "id": "ac240298-2e1c-4d32-874e-927cd098dace",
   "metadata": {},
   "source": [
    "Another built-in function in `Python` is `type()`. `type()` returns the data type of a variable."
   ]
  },
  {
   "cell_type": "code",
   "execution_count": null,
   "id": "6c38902c-dc75-49da-a3fb-f8b04c1f6826",
   "metadata": {},
   "outputs": [],
   "source": [
    "print(\n",
    "    type(a),\n",
    "    type(b),\n",
    "    type(c),\n",
    "    type(d),\n",
    "    type(e),\n",
    "     )"
   ]
  },
  {
   "cell_type": "markdown",
   "id": "164ce0c5-2fc0-4cde-b671-86fb37c91938",
   "metadata": {},
   "source": [
    "## 2. Commands that operate on things\n",
    "\n",
    "Just storing data in variables isn't much use to us. Right away, we'd like to start performing\n",
    "operations and manipulations on data and variables.\n",
    "\n",
    "There are three very common means of performing an operation on a thing."
   ]
  },
  {
   "cell_type": "markdown",
   "id": "36c6a79a-79ea-40d5-8897-92860e00f1f0",
   "metadata": {},
   "source": [
    "### 2.1 Use an operator\n",
    "\n",
    "All of the basic math operators work like you think they should for numbers. They can also\n",
    "do some useful operations on other things, like strings. There are also boolean operators that\n",
    "compare quantities and give back a `bool` variable as a result."
   ]
  },
  {
   "cell_type": "code",
   "execution_count": null,
   "id": "a310543f-afe0-4f2c-8738-8139abf06e90",
   "metadata": {},
   "outputs": [],
   "source": [
    "a = 2 \n",
    "b = 3"
   ]
  },
  {
   "cell_type": "markdown",
   "id": "0d67edd2-9296-485f-a28c-d1d619be34fa",
   "metadata": {},
   "source": [
    "#### Arithmetic operators"
   ]
  },
  {
   "cell_type": "code",
   "execution_count": null,
   "id": "4da64d80-27c4-4189-a277-2241874f45c5",
   "metadata": {},
   "outputs": [],
   "source": [
    "# this is a comment\n",
    "print(\n",
    "    a+b, \n",
    "    a*b, \n",
    "    a**b,\n",
    "    a/b,\n",
    "    a//b,\n",
    "    a%b\n",
    ")"
   ]
  },
  {
   "cell_type": "code",
   "execution_count": null,
   "id": "55e6868c-4ed6-4e00-81a7-ac48b05356e0",
   "metadata": {},
   "outputs": [],
   "source": [
    "#dir(a)"
   ]
  },
  {
   "cell_type": "code",
   "execution_count": null,
   "id": "783bc64b-002c-4a08-b113-9098d1c656ac",
   "metadata": {},
   "outputs": [],
   "source": [
    "a.bit_length()"
   ]
  },
  {
   "cell_type": "markdown",
   "id": "4959f2c1-3273-4015-bcb2-4bff05b0d9ac",
   "metadata": {},
   "source": [
    "#### Strings"
   ]
  },
  {
   "cell_type": "code",
   "execution_count": null,
   "id": "7a65cdec-d3ae-462d-a32e-10bd868de6b3",
   "metadata": {},
   "outputs": [],
   "source": [
    "\"Hello\" + \" World\""
   ]
  },
  {
   "cell_type": "code",
   "execution_count": null,
   "id": "f15291e1-7403-4f86-bad8-702e518f7e80",
   "metadata": {},
   "outputs": [],
   "source": [
    "\"Hello \" * 4"
   ]
  },
  {
   "cell_type": "code",
   "execution_count": null,
   "id": "10daf549-e6d0-4ecf-aa7b-3e65aa711611",
   "metadata": {},
   "outputs": [],
   "source": [
    "\"Hello \"**4"
   ]
  },
  {
   "cell_type": "code",
   "execution_count": null,
   "id": "954480e2-775c-48c2-ac45-ed08775665af",
   "metadata": {},
   "outputs": [],
   "source": [
    "#dir(\"Hello\")"
   ]
  },
  {
   "cell_type": "code",
   "execution_count": null,
   "id": "a460fa2c-c716-4bb8-94a3-e06d696b84ce",
   "metadata": {},
   "outputs": [],
   "source": [
    "x = \"Hello\"\n",
    "print('number of e in word :',x.count('e'))\n",
    "print('number of l in word :',x.count('l'))"
   ]
  },
  {
   "cell_type": "markdown",
   "id": "f1f55e96-fb2b-4405-9820-2b1eca9274d2",
   "metadata": {},
   "source": [
    "#### Boolean values"
   ]
  },
  {
   "cell_type": "code",
   "execution_count": null,
   "id": "dc7fdf6c-87ef-4f74-9985-ce374d257f35",
   "metadata": {},
   "outputs": [],
   "source": [
    "# Boolean operators compare two things\n",
    "a = (1 > 3)\n",
    "a"
   ]
  },
  {
   "cell_type": "code",
   "execution_count": null,
   "id": "3fa302a6-3b93-4502-8867-2cc9f9fbc735",
   "metadata": {},
   "outputs": [],
   "source": [
    "b = (3 == 3)\n",
    "b"
   ]
  },
  {
   "cell_type": "code",
   "execution_count": null,
   "id": "a37f0193-e168-4587-bae9-67201f94e6f9",
   "metadata": {},
   "outputs": [],
   "source": [
    "#dir(True)"
   ]
  },
  {
   "cell_type": "markdown",
   "id": "19dde839-f43b-482d-8688-4ae5b710bbe9",
   "metadata": {},
   "source": [
    "### 2.2 Use a function\n",
    "\n",
    "These will be very familiar to anyone who has programmed in any language, and work like you\n",
    "would expect. Functions are called by the syntax `FUNCTION_NAME()`. Within the parenthesis arguments can be provided for the function if needed."
   ]
  },
  {
   "cell_type": "markdown",
   "id": "558ba459-5655-420b-956c-6eb000412905",
   "metadata": {},
   "source": [
    "We already encountered the built-in functions `print()` and `type()`:"
   ]
  },
  {
   "cell_type": "code",
   "execution_count": null,
   "id": "4dd4e430-2e99-44e0-b2fb-42a4489a62d4",
   "metadata": {},
   "outputs": [],
   "source": [
    "a = \"hello world\""
   ]
  },
  {
   "cell_type": "code",
   "execution_count": null,
   "id": "8397f708-6546-4ff7-b9d3-f77c53371d5d",
   "metadata": {},
   "outputs": [],
   "source": [
    "print(a)"
   ]
  },
  {
   "cell_type": "code",
   "execution_count": null,
   "id": "e06736d7-ed17-4c38-a40b-76a6412d8035",
   "metadata": {},
   "outputs": [],
   "source": [
    "type(a)"
   ]
  },
  {
   "cell_type": "markdown",
   "id": "1bd631b8-ec86-43f0-9f14-da68dc8b3bf8",
   "metadata": {},
   "source": [
    "Only very few functions are available by default in the `Python` interpreter (``print()``, ``len()``, ``type()``, ``round()``, ...).\n",
    "Most other functions must be imported from modules. "
   ]
  },
  {
   "cell_type": "code",
   "execution_count": null,
   "id": "72a9f456-5642-4e0f-8022-ef5baebc7646",
   "metadata": {},
   "outputs": [],
   "source": [
    "# string\n",
    "len('hello')"
   ]
  },
  {
   "cell_type": "code",
   "execution_count": null,
   "id": "8a3fa3e2-5364-49c6-8b7e-e0d676fc12a9",
   "metadata": {},
   "outputs": [],
   "source": [
    "# list\n",
    "len([1, 2, 3])"
   ]
  },
  {
   "cell_type": "markdown",
   "id": "a2a6e771-a5e2-403e-98bd-6ee356250b92",
   "metadata": {},
   "source": [
    "Note that a function might be limited to certain data types as input. For example we cannot apply `len()` on integers."
   ]
  },
  {
   "cell_type": "code",
   "execution_count": null,
   "id": "8983d56e-b5a3-4fb5-b40e-849eb98085d2",
   "metadata": {},
   "outputs": [],
   "source": [
    "len(5)"
   ]
  },
  {
   "cell_type": "markdown",
   "id": "f688b812-0038-486f-8a69-e21cb42684b4",
   "metadata": {},
   "source": [
    "The function `round()` can be given multiple arguments: the number thats need to be rounded and the number of digits to which it should be rounded."
   ]
  },
  {
   "cell_type": "code",
   "execution_count": null,
   "id": "a953fc57-47c1-4dcf-beff-43de2cc6a09b",
   "metadata": {},
   "outputs": [],
   "source": [
    "round(3.345,2)"
   ]
  },
  {
   "cell_type": "markdown",
   "id": "656fd5e3-29a6-421f-935f-f23b3f5d16e3",
   "metadata": {},
   "source": [
    "If not all arguments are provided to the function they might be set to use a default value as is the case for the number of digits for `round()`. Thus `round(number)` is interpreted as `round(number, ndigits = None)`:"
   ]
  },
  {
   "cell_type": "code",
   "execution_count": null,
   "id": "c7fc2f95-e490-4b00-97cb-65de67cc93d6",
   "metadata": {},
   "outputs": [],
   "source": [
    "# round() with default value\n",
    "round(3.345)"
   ]
  },
  {
   "cell_type": "code",
   "execution_count": null,
   "id": "0664b1bd-93fd-472a-97ba-d108e266c4fe",
   "metadata": {},
   "outputs": [],
   "source": [
    "round(3.345, None)"
   ]
  },
  {
   "cell_type": "markdown",
   "id": "64355dd5-3b83-4dc3-a92c-79ae74c81c96",
   "metadata": {},
   "source": [
    "**TIP**: We can get documentation for a certain function by using the syntax:"
   ]
  },
  {
   "cell_type": "code",
   "execution_count": null,
   "id": "bc9452a5-a967-4f79-bf82-79a6a9724b83",
   "metadata": {},
   "outputs": [],
   "source": [
    "round?"
   ]
  },
  {
   "cell_type": "markdown",
   "id": "5af6d791-813c-4576-8514-d346832faea1",
   "metadata": {},
   "source": [
    "Alternatively we can use `help(NAME_OF_FUNCTION)`:"
   ]
  },
  {
   "cell_type": "code",
   "execution_count": null,
   "id": "979a6708-6a2d-40af-b952-8704ab602399",
   "metadata": {},
   "outputs": [],
   "source": [
    "help(round)"
   ]
  },
  {
   "cell_type": "markdown",
   "id": "e45796f0-065b-4d11-a25b-127bd0e7e81b",
   "metadata": {},
   "source": [
    "With the help of the `dir()` function, we can get a list of the attributes and methods associated with an object — including functions.\n",
    "This behavior is based on `Python’s` object-oriented programming paradigm, where functions themselves are treated as first-class objects.\n",
    "The concepts of object-oriented programming will be discussed in more detail later."
   ]
  },
  {
   "cell_type": "code",
   "execution_count": null,
   "id": "d918eee0-7de8-4851-a75b-49b5c091fd42",
   "metadata": {},
   "outputs": [],
   "source": [
    "dir(round)"
   ]
  },
  {
   "cell_type": "code",
   "execution_count": null,
   "id": "d7c5dd16-627e-4afb-bc12-192b73750d04",
   "metadata": {},
   "outputs": [],
   "source": [
    "round(3.14159, 3)"
   ]
  },
  {
   "cell_type": "markdown",
   "id": "176909ac-14f4-46a1-92a9-2938521a71a3",
   "metadata": {},
   "source": [
    "Another useful function contained in `Python` is `input()`. `input()` enables the user to enter an input, which can be stored in a variable. Note that this input is stored as a string per default. We can specify a statement in the parenthesis to explain what input is wanted from the user."
   ]
  },
  {
   "cell_type": "code",
   "execution_count": null,
   "id": "ef4ca219-99a5-4742-bce0-d57bc31df757",
   "metadata": {},
   "outputs": [],
   "source": [
    "user_input = input('Enter a number between 0 and 9 :')\n",
    "\n",
    "print('Your input was :', user_input)"
   ]
  },
  {
   "cell_type": "markdown",
   "id": "890ceb6c-1789-4ecf-ba74-6767006dbfce",
   "metadata": {},
   "source": [
    "> **Challenge:** Write a program reading multiple inputs from the user. Ask for a name (`string`), an age (`integer`) and if they are registered to the course Machine Learning (`True/False`). Store the inputs in the variables `user_age`, `user_name` and `user_reg` and print them with the print function."
   ]
  },
  {
   "cell_type": "code",
   "execution_count": null,
   "id": "8097934b-0b39-433f-ac45-50ae92cb8f2a",
   "metadata": {},
   "outputs": [],
   "source": [
    "## your code here"
   ]
  },
  {
   "cell_type": "code",
   "execution_count": null,
   "id": "66041564-ee1e-406e-90db-6e10753e53e5",
   "metadata": {},
   "outputs": [],
   "source": [
    "# %load ../src/_solutions/input.py"
   ]
  },
  {
   "cell_type": "markdown",
   "id": "ce0f07c5-bd49-4348-80f7-0c22b69f9b38",
   "metadata": {},
   "source": [
    "### 2.3 Converting data types"
   ]
  },
  {
   "cell_type": "markdown",
   "id": "fc1a3953-0215-437c-ac64-e8cd515f2054",
   "metadata": {},
   "source": [
    "Note that all the variables were read in as `strings`. In order to change the data type we can use the functions `int`, `float`, `str` and `bool` to explicitly convert a variable to a certain data type."
   ]
  },
  {
   "cell_type": "code",
   "execution_count": null,
   "id": "8cf789c5-13b6-4adf-a3e4-6fdeaa533029",
   "metadata": {},
   "outputs": [],
   "source": [
    "type(user_age)"
   ]
  },
  {
   "cell_type": "code",
   "execution_count": null,
   "id": "cdb86d5d-2b1a-4e20-ad70-c632a9144457",
   "metadata": {},
   "outputs": [],
   "source": [
    "type(user_reg)"
   ]
  },
  {
   "cell_type": "code",
   "execution_count": null,
   "id": "9b2e7bb6-6f83-4f17-a6bf-6ef162b1c082",
   "metadata": {},
   "outputs": [],
   "source": [
    "a = 1\n",
    "type(a)"
   ]
  },
  {
   "cell_type": "code",
   "execution_count": null,
   "id": "72298112-d575-4639-9fab-1ea05242b3b1",
   "metadata": {},
   "outputs": [],
   "source": [
    "a = str(a)"
   ]
  },
  {
   "cell_type": "code",
   "execution_count": null,
   "id": "9421d48c-7be2-40aa-be52-b0b19962cba1",
   "metadata": {},
   "outputs": [],
   "source": [
    "type(a)"
   ]
  },
  {
   "cell_type": "markdown",
   "id": "2c1754ca-b7fa-4aac-a7e7-9604844ed9d6",
   "metadata": {},
   "source": [
    "Let us convert the variables from the last example to the correct data types!"
   ]
  },
  {
   "cell_type": "code",
   "execution_count": null,
   "id": "a1b375a5-7d78-449e-bc40-1dfded274c98",
   "metadata": {},
   "outputs": [],
   "source": [
    "# Converting inputs to correct data type\n",
    "user_age = int(user_age)\n",
    "\n",
    "print('user_age as integer :')\n",
    "print(user_age)\n",
    "print(type(user_age))\n",
    "print()\n",
    "print()\n",
    "\n",
    "\n",
    "user_reg = bool(user_reg)\n",
    "\n",
    "print('user_reg as boolean :')\n",
    "print(user_reg)\n",
    "print(type(user_reg))"
   ]
  },
  {
   "cell_type": "markdown",
   "id": "ea9145e0-7b32-431d-a4aa-c6759f1b564e",
   "metadata": {},
   "source": [
    "### 2.4 Importing external libraries"
   ]
  },
  {
   "cell_type": "markdown",
   "id": "6613ad66-630c-4bc5-a0e2-67765911c2ae",
   "metadata": {},
   "source": [
    "We can import a certain module by typing:"
   ]
  },
  {
   "cell_type": "code",
   "execution_count": null,
   "id": "ee7739b3-a2ee-4a09-8457-d110b0bca8da",
   "metadata": {},
   "outputs": [],
   "source": [
    "import math"
   ]
  },
  {
   "cell_type": "markdown",
   "id": "12291218-b47a-4d78-84ca-6f3c142d3707",
   "metadata": {},
   "source": [
    "We can call on methods or attributes of these module by writing `NAME_OF_LIBRARY.NAME_OF_METHOD/ATTRIBUTE`:"
   ]
  },
  {
   "cell_type": "code",
   "execution_count": null,
   "id": "2a53ff43-8178-4575-8363-e7082b523cd7",
   "metadata": {},
   "outputs": [],
   "source": [
    "math.pi"
   ]
  },
  {
   "cell_type": "markdown",
   "id": "1b73d5dd-9f76-4046-b0f1-ce4682fe6934",
   "metadata": {},
   "source": [
    "In order to import a module or library with a certain abbrevation by using the syntax `import MODULE_NAME as SHORT_NAME`."
   ]
  },
  {
   "cell_type": "code",
   "execution_count": null,
   "id": "ffb8cb46-9469-4a78-b7d5-210c9388e553",
   "metadata": {},
   "outputs": [],
   "source": [
    "import math as m"
   ]
  },
  {
   "cell_type": "code",
   "execution_count": null,
   "id": "52971630-c647-4343-9674-cbf247b3d5d8",
   "metadata": {},
   "outputs": [],
   "source": [
    "m.pi"
   ]
  },
  {
   "cell_type": "markdown",
   "id": "ead13cc1-4f51-4fa4-9a8c-3d7bfd70b729",
   "metadata": {},
   "source": [
    "If we want to use only a part of the library we can specifically import only these parts of the library by using the syntax `from NAME_OF_LIBRARY import NAME_OF_METHOD/ATTRIBUTE`"
   ]
  },
  {
   "cell_type": "code",
   "execution_count": null,
   "id": "0dcf0f4f-49d5-4cf9-b06a-1918e64fc28f",
   "metadata": {},
   "outputs": [],
   "source": [
    "from math import pi"
   ]
  },
  {
   "cell_type": "code",
   "execution_count": null,
   "id": "0a7267aa-604c-47b8-859e-5240ba71d6e6",
   "metadata": {},
   "outputs": [],
   "source": [
    "pi"
   ]
  },
  {
   "cell_type": "markdown",
   "id": "092fc7f6-cf5b-4710-87fa-d0eefb656f37",
   "metadata": {},
   "source": [
    "By using the asterisk `*` it is possible to import all public names of a module:"
   ]
  },
  {
   "cell_type": "code",
   "execution_count": null,
   "id": "99f74871-353a-42ce-b31e-b81a2900df84",
   "metadata": {},
   "outputs": [],
   "source": [
    "from math import *"
   ]
  },
  {
   "cell_type": "code",
   "execution_count": null,
   "id": "21d90d14-e343-4e9c-8319-f24005c97178",
   "metadata": {},
   "outputs": [],
   "source": [
    "sqrt(4)"
   ]
  },
  {
   "cell_type": "code",
   "execution_count": null,
   "id": "29349813-ee16-4de4-b1c0-306b39d4a647",
   "metadata": {},
   "outputs": [],
   "source": [
    "math.sqrt(4)"
   ]
  },
  {
   "cell_type": "code",
   "execution_count": null,
   "id": "5bd5a026-3ab1-4000-9cad-9966d2524ce6",
   "metadata": {},
   "outputs": [],
   "source": [
    "m.sqrt(4)"
   ]
  },
  {
   "cell_type": "markdown",
   "id": "8edfbce8-202f-40cb-93bc-78b225997fe3",
   "metadata": {},
   "source": [
    "We can for example import the built-in standard library `sys`, which can used to access internal information from `Python`. After importing the library by typing `import sys` we can display the memory usage of a given data type with the `getsizeof()` methods."
   ]
  },
  {
   "cell_type": "code",
   "execution_count": null,
   "id": "48bad87e-df7e-45a5-9fda-db29361dfb9f",
   "metadata": {},
   "outputs": [],
   "source": [
    "import sys\n",
    "\n",
    "print('integer :',sys.getsizeof(a))\n",
    "\n",
    "print('string  :',sys.getsizeof(b))\n",
    "\n",
    "print('boolean :',sys.getsizeof(c))\n",
    "\n",
    "print('float   :',sys.getsizeof(d))\n",
    "\n",
    "print('list    :',sys.getsizeof(e))"
   ]
  },
  {
   "cell_type": "markdown",
   "id": "46b0876f-b86a-4b4b-a950-60ff0da5b250",
   "metadata": {},
   "source": [
    "### 2.5 Use a method\n",
    "\n",
    "Before we get any further into the `Python` language, we have to say a word about \"objects\". We\n",
    "will not be teaching object oriented programming in this workshop, but you will encounter objects\n",
    "throughout `Python` (in fact, even seemingly simple things like ints and strings are actually\n",
    "objects in `Python`).\n",
    "\n",
    "In the simplest terms, you can think of an object as a small bundled \"thing\" that contains within\n",
    "itself both data and functions that operate on that data. For example, strings in `Python` are\n",
    "objects that contain a set of characters and also various functions that operate on the set of\n",
    "characters. When bundled in an object, these functions are called \"methods\".\n",
    "\n",
    "Instead of the \"normal\" `function(arguments)` syntax, methods are called using the\n",
    "syntax `variable.method(arguments)`."
   ]
  },
  {
   "cell_type": "markdown",
   "id": "2093ab06-ef94-474a-9acc-ceb6807836eb",
   "metadata": {},
   "source": [
    "We can list the methods contained in an \"object\" or data type by using `dir()`."
   ]
  },
  {
   "cell_type": "code",
   "execution_count": null,
   "id": "cf4ef05f-829f-4620-ace5-fe9c4f87cd50",
   "metadata": {},
   "outputs": [],
   "source": [
    "dir(\"a\")"
   ]
  },
  {
   "cell_type": "code",
   "execution_count": null,
   "id": "6cb42e1e-3449-45a7-a158-d1810b9a8301",
   "metadata": {},
   "outputs": [],
   "source": [
    "a = \"HELLO WORLD\"\n",
    "a.lower()"
   ]
  },
  {
   "cell_type": "code",
   "execution_count": null,
   "id": "766970b8-7bf4-4739-9cd3-95e6823ef37f",
   "metadata": {},
   "outputs": [],
   "source": [
    "a = 'hello world'"
   ]
  },
  {
   "cell_type": "code",
   "execution_count": null,
   "id": "3eb31139-2d9a-40a9-aea9-0aee8e6f0826",
   "metadata": {},
   "outputs": [],
   "source": [
    "a.capitalize()"
   ]
  },
  {
   "cell_type": "code",
   "execution_count": null,
   "id": "fb0cefc0-0c2e-4782-b001-b8534647371d",
   "metadata": {},
   "outputs": [],
   "source": [
    "a.title()"
   ]
  },
  {
   "cell_type": "code",
   "execution_count": null,
   "id": "a1b2ee36-b4e1-401f-b96e-2223bb434c20",
   "metadata": {},
   "outputs": [],
   "source": [
    "a.upper()"
   ]
  },
  {
   "cell_type": "code",
   "execution_count": null,
   "id": "a008dab8-3841-41b6-81f2-a0cbfe674ba0",
   "metadata": {},
   "outputs": [],
   "source": [
    "a.replace(\"o\", \"--\")"
   ]
  },
  {
   "cell_type": "markdown",
   "id": "799c1bf4-5b12-4520-9a21-c4a35c383668",
   "metadata": {},
   "source": [
    "In contrast to the functions we used earlier like `round()` we have to use the \"object\" followed by the name of the method and `?` to access the documentation for the method."
   ]
  },
  {
   "cell_type": "code",
   "execution_count": null,
   "id": "0968cbf7-d668-40ac-88b5-64d2b34c2ead",
   "metadata": {},
   "outputs": [],
   "source": [
    "round?"
   ]
  },
  {
   "cell_type": "code",
   "execution_count": null,
   "id": "04644ae7-5a75-485b-a978-220e8a5f4c79",
   "metadata": {},
   "outputs": [],
   "source": [
    "replace?"
   ]
  },
  {
   "cell_type": "code",
   "execution_count": null,
   "id": "85dde8d6-b705-4c00-aa6f-3b9f2efe0ee4",
   "metadata": {},
   "outputs": [],
   "source": [
    "a.replace?"
   ]
  },
  {
   "cell_type": "code",
   "execution_count": null,
   "id": "3eb666e4-9b3d-4896-98d7-0a29a168433d",
   "metadata": {},
   "outputs": [],
   "source": [
    "help()"
   ]
  },
  {
   "cell_type": "markdown",
   "id": "bd09c858-446c-4a4b-8e4c-951d081c9184",
   "metadata": {},
   "source": [
    "__TIP:__ To find out what a function does, you can type it's name and then a question mark to\n",
    "get a pop up help window. Shift-Tab for a tool-tip."
   ]
  },
  {
   "cell_type": "markdown",
   "id": "83132fe9-aac7-435c-9c8f-fc6d702f6f04",
   "metadata": {},
   "source": [
    "## 3. Indexing and Slicing"
   ]
  },
  {
   "cell_type": "markdown",
   "id": "c6da7b65-dd17-4d78-aca4-6e363b63a7ab",
   "metadata": {},
   "source": [
    "We can select an individual element (Indexing) or a sequence of elements (slicing) with the use of the bracket operator `[]`."
   ]
  },
  {
   "cell_type": "markdown",
   "id": "5fd7149c-65f2-48e8-971e-4dc9842fefcd",
   "metadata": {},
   "source": [
    "In order to select elements we can use the start, end and a step size in the form of `a[start:end:step size]`. \n",
    "\n",
    "Let´s have a look at the following example:"
   ]
  },
  {
   "cell_type": "code",
   "execution_count": null,
   "id": "0568e1e9-52d4-4c81-832c-8fd58ae69073",
   "metadata": {},
   "outputs": [],
   "source": [
    "a = [1, 2, 3, 4, 5, 6]"
   ]
  },
  {
   "cell_type": "code",
   "execution_count": null,
   "id": "ed42a44e-e797-4615-80a6-2d1c397ba9cf",
   "metadata": {},
   "outputs": [],
   "source": [
    "a[1]"
   ]
  },
  {
   "cell_type": "markdown",
   "id": "ce722541-9353-4ec9-84ce-98078af97b7f",
   "metadata": {},
   "source": [
    "Note that `Python` starts at the position $0$! Therefore to select the first element we use the syntax:"
   ]
  },
  {
   "cell_type": "code",
   "execution_count": null,
   "id": "dea74047-7ce9-45c8-b90b-2d97b65a6d3d",
   "metadata": {},
   "outputs": [],
   "source": [
    "a[0]"
   ]
  },
  {
   "cell_type": "markdown",
   "id": "713ae993-938a-4002-ac9c-13285204fc92",
   "metadata": {},
   "source": [
    "If the syntax `a[:]` represents the placeholder for the standard values for slicing and can be read as from beginning to end with step size 1:"
   ]
  },
  {
   "cell_type": "code",
   "execution_count": null,
   "id": "5ae8ae69-3216-4fe9-ab23-a1f9fb9d0355",
   "metadata": {},
   "outputs": [],
   "source": [
    "a[:]"
   ]
  },
  {
   "cell_type": "markdown",
   "id": "b84db67e-f0eb-4d06-8a31-b9d3535df0c5",
   "metadata": {},
   "source": [
    "We can use the placeholder `:` with values for the start or end to overwrite the default values:"
   ]
  },
  {
   "cell_type": "code",
   "execution_count": null,
   "id": "ca73d30e-dde2-4041-978e-9db3d4c5409f",
   "metadata": {},
   "outputs": [],
   "source": [
    "# Start from second element until the end of the list\n",
    "a[2:]"
   ]
  },
  {
   "cell_type": "code",
   "execution_count": null,
   "id": "d942334a-51ec-434c-b70a-96d006037a48",
   "metadata": {},
   "outputs": [],
   "source": [
    "# Start from the beginning of the list until the fourth element\n",
    "a[:4]"
   ]
  },
  {
   "cell_type": "code",
   "execution_count": null,
   "id": "43a13e48-de61-40dc-b3bc-dbd08a108076",
   "metadata": {},
   "outputs": [],
   "source": [
    "# Only select every third element from start to end\n",
    "a[::3]"
   ]
  },
  {
   "cell_type": "markdown",
   "id": "142e453b-85be-40b0-a484-20ed3b859c34",
   "metadata": {},
   "source": [
    "Using negative integers we can select beginning at the end of the list."
   ]
  },
  {
   "cell_type": "code",
   "execution_count": null,
   "id": "225223c8-abc8-4c99-8cad-8d5e47113e54",
   "metadata": {},
   "outputs": [],
   "source": [
    "# Select the last element\n",
    "a[-1]"
   ]
  },
  {
   "cell_type": "code",
   "execution_count": null,
   "id": "800fa1a6-ecdf-4b56-80b4-d534a0157249",
   "metadata": {},
   "outputs": [],
   "source": [
    "# Select elements starting at the fifth element from the end of the list\n",
    "a[-5:]"
   ]
  },
  {
   "cell_type": "code",
   "execution_count": null,
   "id": "4147e264-3e2f-4be3-92db-c1d1d9a8915d",
   "metadata": {},
   "outputs": [],
   "source": [
    "# Select the elements in reverse\n",
    "a[::-1]"
   ]
  },
  {
   "cell_type": "code",
   "execution_count": null,
   "id": "52a5941a-0994-415b-bdd8-345ace2b4538",
   "metadata": {},
   "outputs": [],
   "source": [
    "# Select every third element in reverse\n",
    "a[::-3]"
   ]
  },
  {
   "cell_type": "markdown",
   "id": "b6d840d1-d8c2-48e2-8c1a-9d4745b9b164",
   "metadata": {},
   "source": [
    "Note that this syntax for selecting elements can be used on different data types. For example let´s select elements from a string."
   ]
  },
  {
   "cell_type": "markdown",
   "id": "2e988317-45b4-49e4-b66f-47f2136fc3bc",
   "metadata": {},
   "source": [
    "> **Challenge:** Selecting elements from `data`"
   ]
  },
  {
   "cell_type": "code",
   "execution_count": null,
   "id": "ed5c90ad-4d35-4a71-8c1a-777fb6bb164d",
   "metadata": {},
   "outputs": [],
   "source": [
    "data = 'Machine_Learning'"
   ]
  },
  {
   "cell_type": "code",
   "execution_count": null,
   "id": "d3077574-773e-43d7-8f6f-ed1aa0defdae",
   "metadata": {},
   "outputs": [],
   "source": [
    "#data = ['M', 'a', 'c', 'h', 'i', 'n', 'e', '_', 'L', 'e', 'a', 'r', 'n', 'i', 'n', 'g']"
   ]
  },
  {
   "cell_type": "markdown",
   "id": "e2c10b06-8fd7-4373-8286-05c093a591e4",
   "metadata": {},
   "source": [
    "1. Select first 7 characters\n",
    "2. Select last character\n",
    "3. Select last 8 characters\n",
    "4. Select every second character (`McieLann`)"
   ]
  },
  {
   "cell_type": "code",
   "execution_count": null,
   "id": "e5e124cb-9d02-4c09-a1e5-036ddea48942",
   "metadata": {},
   "outputs": [],
   "source": [
    "## your code here"
   ]
  },
  {
   "cell_type": "code",
   "execution_count": null,
   "id": "d55b1202-a0b0-4eaa-a5a9-ef180fd35be5",
   "metadata": {},
   "outputs": [],
   "source": [
    "# %load ../src/_solutions/select.py"
   ]
  },
  {
   "cell_type": "markdown",
   "id": "4a1f67eb-74de-4796-9cdc-8e17c9c7dbb4",
   "metadata": {},
   "source": [
    "## 4. Collections of things\n",
    "\n",
    "While it is interesting to explore your own height, in science we work with larger  slightly more complex datasets. In this example, we are interested in the characteristics and distribution of heights. `Python` provides us with a number of objects to handle collections of things.\n",
    "\n",
    "Probably 99% of your work in scientific `Python` will use one of four types of collections:\n",
    "`lists`, `tuples`, `dictionaries`, and `numpy arrays`. We'll look quickly at each of these and what\n",
    "they can do for you."
   ]
  },
  {
   "cell_type": "markdown",
   "id": "f84ee5e9-fc80-40ad-9e30-d9d1110ee316",
   "metadata": {},
   "source": [
    "### 4.1 Lists\n",
    "\n",
    "Lists are probably the handiest and most flexible type of container. Altough they produce some overhead as the list can be dynamically extended and thus need more memory then other more specialized data structures.\n",
    "\n",
    "Lists are declared with square brackets `[]`. \n",
    "\n",
    "Individual elements of a list can be selected using the syntax `NAME_OF_LIST[start:end:step]`, as discussed in the paragraph above about slicing and indexing."
   ]
  },
  {
   "cell_type": "code",
   "execution_count": null,
   "id": "a797a7af-847f-497d-b31f-d05c3c1e7c90",
   "metadata": {},
   "outputs": [],
   "source": [
    "liste = [1,2,3]"
   ]
  },
  {
   "cell_type": "code",
   "execution_count": null,
   "id": "a2ce9561-f874-42da-8e82-1b4880093c3d",
   "metadata": {},
   "outputs": [],
   "source": [
    "liste[1]"
   ]
  },
  {
   "cell_type": "markdown",
   "id": "b7a7a9ac-826a-41cf-8245-11800578c07d",
   "metadata": {},
   "source": [
    "Lists can contain different data types (heterogenous data) as can be seen in the example below. First we declare the list with the use of the bracket operator an add various different elements seperated by a comma:"
   ]
  },
  {
   "cell_type": "code",
   "execution_count": null,
   "id": "a30fda6e-b83b-4ff4-af64-cecf390e091a",
   "metadata": {},
   "outputs": [],
   "source": [
    "a = [\"blueberry\", \"strawberry\", \"pineapple\", 1, True]\n",
    "type(a)"
   ]
  },
  {
   "cell_type": "code",
   "execution_count": null,
   "id": "3e1a0bcc-9f34-41d4-a3a3-0959c978fe8d",
   "metadata": {},
   "outputs": [],
   "source": [
    "a[1]"
   ]
  },
  {
   "cell_type": "code",
   "execution_count": null,
   "id": "8e0be083-13e3-4e1b-b5c5-a0f73fdb766e",
   "metadata": {},
   "outputs": [],
   "source": [
    "a[-1]"
   ]
  },
  {
   "cell_type": "code",
   "execution_count": null,
   "id": "e88571f6-52ee-4002-b38d-ec3d1b52a830",
   "metadata": {},
   "outputs": [],
   "source": [
    "a[::-1]"
   ]
  },
  {
   "cell_type": "code",
   "execution_count": null,
   "id": "9734eced-a097-4dfd-9353-ba739b729831",
   "metadata": {},
   "outputs": [],
   "source": [
    "a"
   ]
  },
  {
   "cell_type": "markdown",
   "id": "eb78deac-be6e-4a01-899c-6a5cbc90c8f6",
   "metadata": {},
   "source": [
    "We can overwrite an existing element by assigning a new value to a specific position using the bracket operator:"
   ]
  },
  {
   "cell_type": "code",
   "execution_count": null,
   "id": "3104a369-2dd6-4f29-9456-e60848b28d5b",
   "metadata": {},
   "outputs": [],
   "source": [
    "a[0] = \"new fruit\""
   ]
  },
  {
   "cell_type": "code",
   "execution_count": null,
   "id": "44f23c67-6783-48f6-b0b5-2b129bc78920",
   "metadata": {},
   "outputs": [],
   "source": [
    "print(a)"
   ]
  },
  {
   "cell_type": "markdown",
   "id": "4fd5f33f-5f53-499d-bbe2-3c2c338724f5",
   "metadata": {},
   "source": [
    "An important list method is `append()`, which can be used to add a new element at the end of the list."
   ]
  },
  {
   "cell_type": "code",
   "execution_count": null,
   "id": "ce2d614b-86c6-4445-8d07-36f59ea1ad97",
   "metadata": {},
   "outputs": [],
   "source": [
    "# adding a new element at the end of list\n",
    "a.append(\"a new thing\")"
   ]
  },
  {
   "cell_type": "code",
   "execution_count": null,
   "id": "79295632-0732-412e-ac08-afcfae2494af",
   "metadata": {},
   "outputs": [],
   "source": [
    "a"
   ]
  },
  {
   "cell_type": "markdown",
   "id": "72b3f45d-522c-425e-be6b-6f5067566703",
   "metadata": {},
   "source": [
    "Another useful method is `pop()` which can be used to remove the last element from a list."
   ]
  },
  {
   "cell_type": "code",
   "execution_count": null,
   "id": "05f9c15c-f596-4fc3-8629-0c4158857d3c",
   "metadata": {},
   "outputs": [],
   "source": [
    "# Remove the three last elements\n",
    "a.pop()\n",
    "a.pop()\n",
    "a.pop()"
   ]
  },
  {
   "cell_type": "code",
   "execution_count": null,
   "id": "c40293c4-09ec-48d9-a2bc-8e2290f56515",
   "metadata": {},
   "outputs": [],
   "source": [
    "a"
   ]
  },
  {
   "cell_type": "code",
   "execution_count": null,
   "id": "db478e9b-bfc2-41a1-984a-7c87d34b2ff7",
   "metadata": {},
   "outputs": [],
   "source": [
    "a.sort()"
   ]
  },
  {
   "cell_type": "code",
   "execution_count": null,
   "id": "a5d328ea-976b-4029-97e9-73f2b5f38d2b",
   "metadata": {},
   "outputs": [],
   "source": [
    "a"
   ]
  },
  {
   "cell_type": "code",
   "execution_count": null,
   "id": "29666a89-bcc8-4c82-8c3e-6b3fa9c0bcbe",
   "metadata": {},
   "outputs": [],
   "source": [
    "a.reverse()"
   ]
  },
  {
   "cell_type": "code",
   "execution_count": null,
   "id": "a4348391-8b33-409e-adc9-aa53ca711859",
   "metadata": {},
   "outputs": [],
   "source": [
    "a"
   ]
  },
  {
   "cell_type": "markdown",
   "id": "8f7d87fd-d040-4820-81d3-6ad3d20612e7",
   "metadata": {},
   "source": [
    "> **Challenge:** Store a bunch of heights (in metres) in a list\n",
    "1. Ask five people around you for their heights (in metres).\n",
    "2. Store these in a list called `heights`.\n",
    "3. Append your own height to the list.\n",
    "4. Get the first height from the list and print it.\n",
    "5. Compute the mean height and print it. _Hint: the function mean is available from the `statistics` module and can be imported with `from statistics import mean`_\n"
   ]
  },
  {
   "cell_type": "code",
   "execution_count": null,
   "id": "a7f71f70-e4f0-4321-9cc0-1c1310c88fd8",
   "metadata": {},
   "outputs": [],
   "source": [
    "from statistics import mean\n",
    "liste = [1,2,3]\n",
    "mean(liste)"
   ]
  },
  {
   "cell_type": "code",
   "execution_count": null,
   "id": "e716c89c-aa39-4020-ad48-d496b3052465",
   "metadata": {},
   "outputs": [],
   "source": [
    "## your code here"
   ]
  },
  {
   "cell_type": "code",
   "execution_count": null,
   "id": "2da876a4-6d4c-4e1d-b0c6-5f35850b0339",
   "metadata": {},
   "outputs": [],
   "source": [
    "# %load ../src/_solutions/height.py"
   ]
  },
  {
   "cell_type": "markdown",
   "id": "8c443520-e9e9-4a39-9d75-33ad77529fdd",
   "metadata": {},
   "source": [
    "### 4.2 Tuples\n",
    "\n",
    "We won't say a whole lot about tuples except to mention that they basically work just like lists, with\n",
    "two major exceptions:\n",
    "\n",
    "1. You declare tuples using () instead of []\n",
    "1. Once you make a tuple, you can't change what's in it (referred to as immutable)\n",
    "\n",
    "You'll see tuples come up throughout the `Python` language, and over time you'll develop a feel for when\n",
    "to use them. \n",
    "\n",
    "In general, they're often used instead of lists:\n",
    "\n",
    "1. to group items when the position in the collection is critical, such as coord = (x, y)\n",
    "1. when you want to make prevent accidental modification of the items, e.g. shape = (12, 23)\n",
    "1. when we need a *hashable* object (as key in a mapping/dict) (explained later)"
   ]
  },
  {
   "cell_type": "code",
   "execution_count": null,
   "id": "29f5b4ce-f229-4c75-b84f-21b762c7af06",
   "metadata": {},
   "outputs": [],
   "source": [
    "b = (1,2,3,4,5)\n",
    "type(b)"
   ]
  },
  {
   "cell_type": "code",
   "execution_count": null,
   "id": "f062fc6a-9287-44af-b614-0285f2b7073c",
   "metadata": {},
   "outputs": [],
   "source": [
    "b1 = [1,2,3,4,5]\n",
    "type(b1)"
   ]
  },
  {
   "cell_type": "code",
   "execution_count": null,
   "id": "7a07f8a9-6398-4404-a6a9-7f7a39ef1879",
   "metadata": {},
   "outputs": [],
   "source": [
    "b1[0] = 2\n",
    "b1"
   ]
  },
  {
   "cell_type": "code",
   "execution_count": null,
   "id": "caad8afb-daba-4600-8c2e-787a0e655104",
   "metadata": {},
   "outputs": [],
   "source": [
    "b[0] = 2"
   ]
  },
  {
   "cell_type": "markdown",
   "id": "311b4d2a-de2d-46e0-ad66-d05a793e04f7",
   "metadata": {},
   "source": [
    "### 4.3 Dictionaries\n",
    "\n",
    "Dictionaries are the collection to use when you want to store and retrieve things by their names\n",
    "(or some other kind of key) instead of by their position in the collection. A good example is a set\n",
    "of model parameters, each of which has a name and a value. Dictionaries are declared using {}.\n",
    "\n",
    "`key` $\\to$ `value` pairs"
   ]
  },
  {
   "cell_type": "code",
   "execution_count": null,
   "id": "433f7ab5-55d5-413c-91b0-6a98d0aa0ace",
   "metadata": {},
   "outputs": [],
   "source": [
    "my_dict = {\"Marry\" : 22 , \"Frank\" : 33  }"
   ]
  },
  {
   "cell_type": "code",
   "execution_count": null,
   "id": "f5cf97a6-2d4e-48d7-b706-c39ff6118652",
   "metadata": {},
   "outputs": [],
   "source": [
    "my_dict"
   ]
  },
  {
   "cell_type": "code",
   "execution_count": null,
   "id": "2568857f-6671-4d2f-a0dc-ab29b2ea17fb",
   "metadata": {},
   "outputs": [],
   "source": [
    "my_dict[\"Marry\"]"
   ]
  },
  {
   "cell_type": "code",
   "execution_count": null,
   "id": "ed5407b4-4544-4ef3-a307-e05621e381d8",
   "metadata": {},
   "outputs": [],
   "source": [
    "my_dict[\"Frank\"]"
   ]
  },
  {
   "cell_type": "code",
   "execution_count": null,
   "id": "bf51b7be-bce2-4121-b6e8-7e8d6315dfe5",
   "metadata": {},
   "outputs": [],
   "source": [
    "my_dict[\"Anne\"] = 13"
   ]
  },
  {
   "cell_type": "code",
   "execution_count": null,
   "id": "8e176e78-a470-4052-ab8e-e8ed29c7716a",
   "metadata": {},
   "outputs": [],
   "source": [
    "my_dict"
   ]
  },
  {
   "cell_type": "code",
   "execution_count": null,
   "id": "aa47d91a-0842-4016-bce2-cd0e19dcb132",
   "metadata": {},
   "outputs": [],
   "source": [
    "my_dict[\"Anne\"]"
   ]
  },
  {
   "cell_type": "code",
   "execution_count": null,
   "id": "65d6e182-d93d-4a9c-9c2e-d976fd70df80",
   "metadata": {},
   "outputs": [],
   "source": [
    "my_dict[\"Heidi\"]"
   ]
  },
  {
   "cell_type": "code",
   "execution_count": null,
   "id": "ca4c6467-9df6-44dd-8662-ce81cc2dcb8a",
   "metadata": {},
   "outputs": [],
   "source": [
    "my_dict.get(\"Heidi\", \"Danger no entry found!\")"
   ]
  },
  {
   "cell_type": "code",
   "execution_count": null,
   "id": "e90cb77e-5ff6-4af4-a076-51437c91b571",
   "metadata": {},
   "outputs": [],
   "source": [
    "my_dict.items()"
   ]
  },
  {
   "cell_type": "code",
   "execution_count": null,
   "id": "215a5c59-c377-488d-8af5-2b8df06fa283",
   "metadata": {},
   "outputs": [],
   "source": [
    "my_dict.keys()"
   ]
  },
  {
   "cell_type": "code",
   "execution_count": null,
   "id": "06a50898-d3f5-4b9a-b90c-d097476805c8",
   "metadata": {},
   "outputs": [],
   "source": [
    "my_dict.values()"
   ]
  },
  {
   "cell_type": "markdown",
   "id": "d1e7b829-fd52-43cb-9959-3546f80df12e",
   "metadata": {},
   "source": [
    "> **Challenge:** Store the previously obtained heights in a dictionary. Use suitable `keys` eg: Name or Letters `'A', 'B', 'C', ...`\n",
    " Print out the first entry and the keys/values of the dictionary"
   ]
  },
  {
   "cell_type": "code",
   "execution_count": null,
   "id": "29b51691-8589-4031-9cc8-3ea363b21939",
   "metadata": {},
   "outputs": [],
   "source": [
    "## your code here"
   ]
  },
  {
   "cell_type": "code",
   "execution_count": null,
   "id": "74046fe2-08ed-49a7-ad18-13063bd8d43f",
   "metadata": {
    "tags": []
   },
   "outputs": [],
   "source": [
    "# %load ../src/_solutions/height_dict.py"
   ]
  },
  {
   "cell_type": "markdown",
   "id": "e18af3ae-32f5-4c39-872d-687add49df35",
   "metadata": {},
   "source": [
    "We are not necessarily limited to strings and integers as keys and values for dictionnaries."
   ]
  },
  {
   "cell_type": "code",
   "execution_count": null,
   "id": "afebe56c-efe2-44f0-9a45-1f4e51f770c3",
   "metadata": {},
   "outputs": [],
   "source": [
    "dict_1 = {\"a\": 10, 25: 'b'}"
   ]
  },
  {
   "cell_type": "code",
   "execution_count": null,
   "id": "a4957686-d750-418f-8ecc-f59882a1bdee",
   "metadata": {},
   "outputs": [],
   "source": [
    "dict_1['a']"
   ]
  },
  {
   "cell_type": "code",
   "execution_count": null,
   "id": "8237a6fd-6135-495f-8b36-97d74288f5b1",
   "metadata": {},
   "outputs": [],
   "source": [
    "dict_1[25]"
   ]
  },
  {
   "cell_type": "markdown",
   "id": "c222995e-4fa7-402b-a963-d8cc7ec1e149",
   "metadata": {},
   "source": [
    "## 5. Repeating yourself\n",
    "\n",
    "So far, everything that we've done could, in principle, be done by hand calculation. In this section\n",
    "and the next, we really start to take advantage of the power of programming languages to do things\n",
    "for us automatically.\n",
    "\n",
    "We start here with ways to repeat yourself. The two most common ways of doing this are known as for\n",
    "loops and while loops. For loops in `Python` are useful when you want to cycle over all of the items\n",
    "in a collection (such as all of the elements of an array), and while loops are useful when you want to\n",
    "cycle for an indefinite amount of time until some condition is met.\n",
    "\n",
    "The basic examples below will work for looping over **lists**, **tuples**, and **arrays**. Looping over **dictionaries**\n",
    "is a bit different, since there is a key and a value for each item in a dictionary. Have a look at the\n",
    "`Python` docs for more information."
   ]
  },
  {
   "cell_type": "code",
   "execution_count": null,
   "id": "dd14f8dc-39e0-43a1-b848-91eadfeabeb2",
   "metadata": {},
   "outputs": [],
   "source": [
    "my_dict = {\"language\": \"Python\", \"version\": 3.11, \"typed\": True}\n",
    "\n",
    "print(\"Nur Keys:\")\n",
    "for k in my_dict:\n",
    "    print(k)\n",
    "\n",
    "print(\"\\nNur Values:\")\n",
    "for v in my_dict.values():\n",
    "    print(v)\n",
    "\n",
    "print(\"\\nKey + Value:\")\n",
    "for k, v in my_dict.items():\n",
    "    print(f\"{k} and {v}\")\n"
   ]
  },
  {
   "cell_type": "markdown",
   "id": "492204cc-1673-4f01-b44e-7be747ad5920",
   "metadata": {},
   "source": [
    "### 5.1 __`for` Loops__"
   ]
  },
  {
   "cell_type": "code",
   "execution_count": null,
   "id": "4d769735-df11-45ef-a631-02b05a251571",
   "metadata": {},
   "outputs": [],
   "source": [
    "for i in range(10):\n",
    "    print(i)"
   ]
  },
  {
   "cell_type": "code",
   "execution_count": null,
   "id": "35a37e9d-dd0d-42bd-aa9e-073d3ecfeb95",
   "metadata": {},
   "outputs": [],
   "source": [
    "counter = 0\n",
    "for i in range(10):\n",
    "    counter = counter + i\n",
    "print(counter)"
   ]
  },
  {
   "cell_type": "code",
   "execution_count": null,
   "id": "73b9e761-ddae-4945-8729-7b896612d825",
   "metadata": {},
   "outputs": [],
   "source": [
    "wordlist = [\"hi\", \"hello\", \"bye\"]"
   ]
  },
  {
   "cell_type": "code",
   "execution_count": null,
   "id": "86947c4d-cdf6-48e1-9985-9274c9f8e79d",
   "metadata": {},
   "outputs": [],
   "source": [
    "import time\n",
    "for word in wordlist:\n",
    "    print(word + \"!\")\n",
    "    time.sleep(1)\n",
    "    print(\"-----------\")\n",
    "print(\"Done\")"
   ]
  },
  {
   "cell_type": "markdown",
   "id": "b872f061-d748-4fd1-8cb7-268d005a7d8a",
   "metadata": {},
   "source": [
    "**Note on indentation**: Notice the indentation once we enter the for loop.  Every idented statement after the for loop declaration is part of the for loop.  This rule holds true for while loops, if statements, functions, etc. Required identation is one of the reasons `Python` is such a beautiful language to read.\n",
    "\n",
    "If you do not have consistent indentation you will get an `IndentationError`.  Fortunately, most code editors will ensure your indentation is correction.\n",
    "\n",
    "__NOTE__ In `Python` the default is to use four (4) spaces for each indentation, most editors can be configured to follow this guide."
   ]
  },
  {
   "cell_type": "code",
   "execution_count": null,
   "id": "1901357e-090c-4961-a10b-c1bb6fe06250",
   "metadata": {},
   "outputs": [],
   "source": [
    "counter=0\n",
    "for i in range(5):\n",
    "    counter += i"
   ]
  },
  {
   "cell_type": "code",
   "execution_count": null,
   "id": "9d062f6f-36ee-4158-824d-84715e0c9b43",
   "metadata": {},
   "outputs": [],
   "source": [
    "counter"
   ]
  },
  {
   "cell_type": "markdown",
   "id": "e9c88b25-a7e0-4fa1-b1a6-445aa34a5d03",
   "metadata": {},
   "source": [
    "> **Challenge**\n",
    "* Sum all of the values in a collection using a for loop\n",
    "`numlist = [1, 4, 77, 3]`"
   ]
  },
  {
   "cell_type": "code",
   "execution_count": null,
   "id": "4cda63fc-2642-4293-8e2d-9eb990cd7d48",
   "metadata": {},
   "outputs": [],
   "source": [
    "numlist = [1, 4, 77, 3]"
   ]
  },
  {
   "cell_type": "code",
   "execution_count": null,
   "id": "a8e68185-5123-4046-94c9-322a6703cbd7",
   "metadata": {},
   "outputs": [],
   "source": [
    "## your code here ..."
   ]
  },
  {
   "cell_type": "code",
   "execution_count": null,
   "id": "3766d06a-8fcf-4bee-bb9a-2967b5b8b663",
   "metadata": {},
   "outputs": [],
   "source": [
    "# %load ../src/_solutions/sumlist.py"
   ]
  },
  {
   "cell_type": "markdown",
   "id": "e6b38d10-3051-4ff1-a21c-19ef163d26b5",
   "metadata": {},
   "source": [
    "Another way to access elements of a list using a `for`-loop is given by using the iteration variable and the bracket operator. Let´s have a look at an example:"
   ]
  },
  {
   "cell_type": "code",
   "execution_count": null,
   "id": "7e4be4f2-561e-4b2c-9efc-5f1f4fc2ab66",
   "metadata": {},
   "outputs": [],
   "source": [
    "data = ['Another', 'way', 'to', 'access', 'list', 'elements']"
   ]
  },
  {
   "cell_type": "code",
   "execution_count": null,
   "id": "9e7bf034-4403-477e-9cfd-23e9eb15e4c6",
   "metadata": {},
   "outputs": [],
   "source": [
    "for i in range(len(data)):\n",
    "    print(data[i])"
   ]
  },
  {
   "cell_type": "markdown",
   "id": "d4b9a12f-c401-46a1-9c60-76e5e4cfcafb",
   "metadata": {},
   "source": [
    "> **Challenge**\n",
    "* Combine items from two lists and print them as one string to the console   \n",
    "`name = [\"John\", \"Ringo\", \"Paul\", \"George\"]`   \n",
    "`surname = [\"Lennon\", \"Star\", \"McCartney\", \"Harrison\"]`\n",
    "\n",
    "> _Hint: Use `range(len(my_list))` to easily build a for loop for the size of the list_\n",
    "\n",
    "> _Hint: Access the item at position `i` with `mylist[i]`_"
   ]
  },
  {
   "cell_type": "code",
   "execution_count": null,
   "id": "b899507a-23c6-4628-a856-03e38ca07045",
   "metadata": {},
   "outputs": [],
   "source": [
    "name = [\"John\", \"Ringo\", \"Paul\", \"George\"]\n",
    "surname = [\"Lennon\", \"Star\", \"McCartney\", \"Harrison\"]"
   ]
  },
  {
   "cell_type": "code",
   "execution_count": null,
   "id": "e1f43b5f-62b1-451e-8062-d62584537f18",
   "metadata": {},
   "outputs": [],
   "source": [
    "# Concatenating strings\n",
    "'John' + ' ' + 'Lennon'"
   ]
  },
  {
   "cell_type": "code",
   "execution_count": null,
   "id": "fce61c35-189b-41c6-af08-8462a5bba5e9",
   "metadata": {},
   "outputs": [],
   "source": [
    "# Concatenating elements of a list\n",
    "name[0] + ' ' + surname[0]"
   ]
  },
  {
   "cell_type": "code",
   "execution_count": null,
   "id": "fe5d749f-6bfa-40ac-b8bf-6cb9f085157a",
   "metadata": {},
   "outputs": [],
   "source": [
    "## your code here ..."
   ]
  },
  {
   "cell_type": "code",
   "execution_count": null,
   "id": "352d1dd6-ed3d-404b-a1c8-d28890beeaf8",
   "metadata": {},
   "outputs": [],
   "source": [
    "# %load ../src/_solutions/list_combine0.py"
   ]
  },
  {
   "cell_type": "code",
   "execution_count": null,
   "id": "56d6f8de-4759-4729-b057-3086f30801e6",
   "metadata": {},
   "outputs": [],
   "source": [
    "# %load ../src/_solutions/list_combine1.py"
   ]
  },
  {
   "cell_type": "code",
   "execution_count": null,
   "id": "ea3f6ef5-962b-4ef5-a01b-0c8576d4a05a",
   "metadata": {},
   "outputs": [],
   "source": [
    "#zip(name, surname)"
   ]
  },
  {
   "cell_type": "code",
   "execution_count": null,
   "id": "09e340f1-a956-419c-9db7-43a833e1b134",
   "metadata": {},
   "outputs": [],
   "source": [
    "# %load ../src/_solutions/list_combine2.py"
   ]
  },
  {
   "cell_type": "code",
   "execution_count": null,
   "id": "9cc2db7d-31b9-434f-b50a-4f21ea6d029b",
   "metadata": {},
   "outputs": [],
   "source": [
    "# %load ../src/_solutions/list_combine3.py"
   ]
  },
  {
   "cell_type": "markdown",
   "id": "efeb7310-3d20-4043-ad9a-5203f7bb4075",
   "metadata": {},
   "source": [
    "### 5.2 **`while` loop**"
   ]
  },
  {
   "cell_type": "markdown",
   "id": "5e50b13b-6744-4ae0-8a68-ef52d638a843",
   "metadata": {},
   "source": [
    "A `while`-loop is similiar to a `for`-loop with the exception that the `while`-loop runs until a certain condition is met. It is declared in the form `while STOP_CONDITION:`. The `while`-loop stops when the stop condition is returned as `False`."
   ]
  },
  {
   "cell_type": "code",
   "execution_count": null,
   "id": "750970ec-1232-433f-9c63-7ac3434d6448",
   "metadata": {},
   "outputs": [],
   "source": [
    "# and want to stop once a certain condition is met.\n",
    "step = 0\n",
    "prod = 1\n",
    "while prod < 100:\n",
    "    step = step + 1\n",
    "    prod = prod * 2\n",
    "    print(step, prod)\n",
    "    time.sleep(0.3)\n",
    "    \n",
    "print('Reached a product of', prod, 'at step number', step)"
   ]
  },
  {
   "cell_type": "markdown",
   "id": "a3be07d4-5941-43ca-b9ac-94f63e772fbf",
   "metadata": {},
   "source": [
    "## 6. Making choices\n",
    "\n",
    "Often we want to check if a condition is True and take one action if it is, and another action if the\n",
    "condition is False. We can achieve this in `Python` with an if statement.\n",
    "\n",
    "__TIP:__ You can use any expression that returns a boolean value (True or False) in an if statement.\n",
    "Common boolean operators are ==, !=, <, <=, >, >=. You can also use `is` and `is not` if you want to\n",
    "check if two variables are identical in the sense that they are stored in the same location in memory."
   ]
  },
  {
   "cell_type": "code",
   "execution_count": null,
   "id": "d49bca29-8d4e-44b3-9462-697bbada808c",
   "metadata": {},
   "outputs": [],
   "source": [
    "x = -1\n",
    "\n",
    "if x > 0:\n",
    "    print(\"x is positive\")\n",
    "elif x < 0:\n",
    "    print(\"x is negative\")\n",
    "else:\n",
    "    print(\"x is zero\")"
   ]
  },
  {
   "cell_type": "markdown",
   "id": "a47600c3-602b-4135-94b6-df10d070c450",
   "metadata": {},
   "source": [
    "> **Challenge**\n",
    "* Implement [FizzBuzz](https://en.wikipedia.org/wiki/Fizz_buzz)\n",
    "* Game for children to learn about division\n",
    "* Children sit in a circle and count upwards\n",
    "* If number is divisible by 3\n",
    "    * Say \"Fizz\"\n",
    "* If number is divisible by 5\n",
    "    * Say \"Buzz\"\n",
    "* If neither\n",
    "    * Say the number"
   ]
  },
  {
   "cell_type": "markdown",
   "id": "36704acb-6625-4ee0-a12f-735a49f661c4",
   "metadata": {},
   "source": [
    "> _**Hint**: the [modulo operator](https://en.wikipedia.org/wiki/Modulo_operation) `%` can tell you if a number is divisible by another, e.g.:_"
   ]
  },
  {
   "cell_type": "code",
   "execution_count": null,
   "id": "a74126c0-7f63-4954-b09c-1bfcba19305d",
   "metadata": {},
   "outputs": [],
   "source": [
    "### your code here ..."
   ]
  },
  {
   "cell_type": "code",
   "execution_count": null,
   "id": "d1dca2dc-f7bf-44f8-92c8-6bfd32a5524e",
   "metadata": {},
   "outputs": [],
   "source": [
    "# %load ../src/_solutions/fizzbuzz.py"
   ]
  },
  {
   "cell_type": "markdown",
   "id": "ee678945-bfc6-4659-a912-92d151161bd7",
   "metadata": {},
   "source": [
    "## 7. Functions (UDFs)"
   ]
  },
  {
   "cell_type": "markdown",
   "id": "31b455ef-d2b1-4b43-85db-202ef38e629e",
   "metadata": {},
   "source": []
  },
  {
   "cell_type": "code",
   "execution_count": null,
   "id": "6819c2ee-da93-4f0e-9611-a23760a2a743",
   "metadata": {},
   "outputs": [],
   "source": [
    "def my_func(a,b,c=10):\n",
    "    rv = (a-b)*c\n",
    "    return rv"
   ]
  },
  {
   "cell_type": "code",
   "execution_count": null,
   "id": "91710323-bcc4-4ddd-9802-c3d18cd95fa8",
   "metadata": {},
   "outputs": [],
   "source": [
    "my_result = my_func(a=1, b=2)\n",
    "my_result"
   ]
  },
  {
   "cell_type": "markdown",
   "id": "3f25c834-1b2e-46d1-8740-82d3da897dc2",
   "metadata": {},
   "source": [
    "> **Challenge** \n",
    "* Write a function that computes Kelvin from Fahrenheit (`fahrenheit_to_kelvin`)\n",
    "* Write a function that computes Celsius from Kelvin (`kelvin_to_celsius`)\n",
    "* Write a function that computes Celsius form Fahrenheit (`fahrenheit_to_celsius`); Resue the two functions from above.\n",
    "\n",
    "\n",
    "`fahrenheit_to_kelvin` $$K = (°F - 32.0) \\times \\frac{5}{9} + 273.15  $$\n",
    "\n",
    "`kelvin_to_celsius` $$°C = K - 273.15  $$"
   ]
  },
  {
   "cell_type": "markdown",
   "id": "bbdc8403-b31a-482f-8d48-45342271f81e",
   "metadata": {},
   "source": [
    "#### Fahrenheit from Kelvin"
   ]
  },
  {
   "cell_type": "code",
   "execution_count": null,
   "id": "0c0587a8-1ffe-46ec-876f-08d761548458",
   "metadata": {},
   "outputs": [],
   "source": [
    "def fahrenheit_to_kelvin(F):\n",
    "    \"\"\"\n",
    "    Function to compute Fahrenheit from Kelvin\n",
    "    \"\"\"\n",
    "    ## your code here ...\n",
    "    pass"
   ]
  },
  {
   "cell_type": "markdown",
   "id": "aeed5d42-8d9f-4de3-bf86-8b43b67d6868",
   "metadata": {},
   "source": [
    "> __Test your function__:   \n",
    "`fahrenheit_to_kelvin(-50)` should yield approx 228 K"
   ]
  },
  {
   "cell_type": "code",
   "execution_count": null,
   "id": "16c35b86-23df-4374-96b8-9af101543aa2",
   "metadata": {},
   "outputs": [],
   "source": [
    "#fahrenheit_to_kelvin(-50)"
   ]
  },
  {
   "cell_type": "code",
   "execution_count": null,
   "id": "6724a738-68b5-459b-b165-a8c7dd0047fe",
   "metadata": {},
   "outputs": [],
   "source": [
    "# %load ../src/_solutions/fahrenheit_to_kelvin.py"
   ]
  },
  {
   "cell_type": "markdown",
   "id": "bfb03387-fadd-4692-a81c-d946b4cf6666",
   "metadata": {},
   "source": [
    "####  Celsius from Kelvin"
   ]
  },
  {
   "cell_type": "code",
   "execution_count": null,
   "id": "210e69dd-dad4-46c9-8b46-0d1d615f3ca4",
   "metadata": {},
   "outputs": [],
   "source": [
    "def kelvin_to_celsius(K):\n",
    "    '''\n",
    "    Function to compute Celsius from Kelvin\n",
    "    '''\n",
    "    ## your code here ...\n",
    "    pass"
   ]
  },
  {
   "cell_type": "markdown",
   "id": "15a6d7a2-a402-4906-894e-7f608cf7c436",
   "metadata": {},
   "source": [
    "> __Test your function__:   \n",
    "`kelvin_to_celsius(0)` should yield approx -273.15 degC"
   ]
  },
  {
   "cell_type": "code",
   "execution_count": null,
   "id": "19c08ebd-63f2-403f-91d0-a4515c22bcc6",
   "metadata": {},
   "outputs": [],
   "source": [
    "#kelvin_to_celsius(0)"
   ]
  },
  {
   "cell_type": "code",
   "execution_count": null,
   "id": "6fc0c33d-e5a8-4cdb-a098-f25946938962",
   "metadata": {},
   "outputs": [],
   "source": [
    "# %load ../src/_solutions/kelvin_to_celsius.py"
   ]
  },
  {
   "cell_type": "markdown",
   "id": "b0d37ec4-0dd4-4764-a6f8-4e4aeb9e121e",
   "metadata": {},
   "source": [
    "#### Celsius from Fahrenheit"
   ]
  },
  {
   "cell_type": "code",
   "execution_count": null,
   "id": "2dd3be56-a6a8-43c3-860b-a80b8daab154",
   "metadata": {},
   "outputs": [],
   "source": [
    "def fahrenheit_to_celsius(F):\n",
    "    '''\n",
    "    Function to compute Celsius from Fahrenheit\n",
    "    '''\n",
    "    ## your code here ...\n",
    "    pass"
   ]
  },
  {
   "cell_type": "markdown",
   "id": "5ae99e42-20a6-4816-b191-28495086a4fd",
   "metadata": {},
   "source": [
    "> __Test your function__:   \n",
    "`fahrenheit_to_celsius(451)` should yield approx 232 degC"
   ]
  },
  {
   "cell_type": "code",
   "execution_count": null,
   "id": "06fe07ef-9a5a-41c9-b601-915c9b5c6d34",
   "metadata": {},
   "outputs": [],
   "source": [
    "#fahrenheit_to_celsius(451)"
   ]
  },
  {
   "cell_type": "code",
   "execution_count": null,
   "id": "cf13f249-92ca-4fce-8d2d-a9076d0fdbfa",
   "metadata": {},
   "outputs": [],
   "source": [
    "# %load ../src/_solutions/fahrenheit_to_celsius.py"
   ]
  },
  {
   "cell_type": "markdown",
   "id": "981a55cb-dcfd-4ebf-bb81-903af70fc82b",
   "metadata": {},
   "source": [
    "### Code refactoring"
   ]
  },
  {
   "cell_type": "code",
   "execution_count": null,
   "id": "cb82dcc0-4d9e-4d86-8e73-af6ea8a858f9",
   "metadata": {},
   "outputs": [],
   "source": [
    "# %load ../src/temperature_module.py"
   ]
  },
  {
   "cell_type": "markdown",
   "id": "b56c279d-2707-439b-a205-9c84b1906ecc",
   "metadata": {},
   "source": [
    "#### Add path to look for modules"
   ]
  },
  {
   "cell_type": "code",
   "execution_count": null,
   "id": "4da91ccb-00d8-4051-bf24-06190622a70f",
   "metadata": {},
   "outputs": [],
   "source": [
    "import sys\n",
    "sys.path.append(\"../src\")"
   ]
  },
  {
   "cell_type": "markdown",
   "id": "310bd11f-76f4-49e8-b344-75afc96f8d64",
   "metadata": {},
   "source": [
    "#### Load own module"
   ]
  },
  {
   "cell_type": "code",
   "execution_count": null,
   "id": "cfdcc17e-082a-4db8-82ce-333a935edf08",
   "metadata": {},
   "outputs": [],
   "source": [
    "import temperature_module as tm"
   ]
  },
  {
   "cell_type": "code",
   "execution_count": null,
   "id": "fcd25f78-3602-4dc4-9daa-01a762f627c7",
   "metadata": {},
   "outputs": [],
   "source": [
    "tm.kelvin_to_celsius(100)"
   ]
  },
  {
   "cell_type": "code",
   "execution_count": null,
   "id": "3af35a76-1b0f-42a4-8936-3c9b33cd8d09",
   "metadata": {},
   "outputs": [],
   "source": [
    "tm.fahrenheit_to_celsius(100)"
   ]
  },
  {
   "cell_type": "code",
   "execution_count": null,
   "id": "34af154e-578a-4a21-85c1-00dab64516aa",
   "metadata": {},
   "outputs": [],
   "source": [
    "tm.fahrenheit_to_kelvin(100)"
   ]
  },
  {
   "cell_type": "markdown",
   "id": "fae0e1e7-f76e-470f-ac1c-de8f2f5ce610",
   "metadata": {
    "tags": []
   },
   "source": [
    "## 9. Final challenge \n",
    "\n",
    "### Build rock scissors paper\n",
    "\n",
    "> __Task__ \n",
    "Implement the classic children's game Rock-paper-scissors, as well as a simple predictive AI (artificial intelligence) player.   \n",
    "\n",
    "> Rock Paper Scissors is a two player game.    \n",
    "> Each player chooses one of rock, paper or scissors, without knowing the other player's choice.  \n",
    "\n",
    "> The winner is decided by a set of rules:   \n",
    ">  * Rock beats scissors   \n",
    ">  * Scissors beat paper   \n",
    ">  * Paper beats rock   \n",
    "\n",
    "> If both players choose the same thing, there is no winner for that round. If you don't konw the rules you may find them [here](https://en.wikipedia.org/wiki/Rock%E2%80%93paper%E2%80%93scissors).\n",
    "> For this task, the computer will be one of the players.\n",
    "\n",
    "> The operator will select Rock, Paper or Scissors and the computer will keep a record of your choices, and use that information to make a weighted random choice in an attempt to defeat its opponent.\n",
    "> Consider the function `choice()`, which you can import by (`from random import choice`) to randomly choose an object from a list.\n",
    "> Consider the function `input()` to ask for user input. Try to implement an exit rule as well.\n"
   ]
  },
  {
   "cell_type": "markdown",
   "id": "234d5273-1d23-41f0-8644-2763dd1ed704",
   "metadata": {},
   "source": [
    "*Hint*: Use a dictionary to implement the rule set."
   ]
  },
  {
   "cell_type": "code",
   "execution_count": null,
   "id": "1e63cd57-94be-483c-8589-16869bab718d",
   "metadata": {},
   "outputs": [],
   "source": [
    "rules = {'rock': 'paper', 'scissors': 'rock', 'paper': 'scissors'}"
   ]
  },
  {
   "cell_type": "code",
   "execution_count": null,
   "id": "0fdf9ef5-8f18-4278-91bc-161d11e93a89",
   "metadata": {},
   "outputs": [],
   "source": [
    "rules['rock']"
   ]
  },
  {
   "cell_type": "code",
   "execution_count": null,
   "id": "71d1afaa-d42e-40eb-9305-ac27c140c15c",
   "metadata": {},
   "outputs": [],
   "source": [
    "## your code here ..."
   ]
  },
  {
   "cell_type": "code",
   "execution_count": null,
   "id": "d2343bbf-48f8-40d7-8cb5-4e86ce31ca2f",
   "metadata": {
    "tags": []
   },
   "outputs": [],
   "source": [
    "# %load ../src/_solutions/rock_paper_scissors.py"
   ]
  },
  {
   "cell_type": "markdown",
   "id": "8c8d3746-0078-49ea-aff4-77b5c80e4ff3",
   "metadata": {},
   "source": [
    "# Programming paradigms"
   ]
  },
  {
   "cell_type": "markdown",
   "id": "5795e0ae-f621-46bd-bd5d-338a94d41ecc",
   "metadata": {},
   "source": [
    "Let´s look at an example where our goal is to sum up the numbers $0$ to $10$ using different programming paradigms."
   ]
  },
  {
   "cell_type": "markdown",
   "id": "4623fe0a-5a0a-4d4d-b69c-d7703005d331",
   "metadata": {},
   "source": [
    "# Imperative Programming"
   ]
  },
  {
   "cell_type": "markdown",
   "id": "c8da0ec7-3cda-47f7-9a46-a4e728254fa2",
   "metadata": {},
   "source": [
    "In imperative programming we use a set of fixed commands, which are sequentially calculated by the computer (often in a for- or while loop). Variables are newly assigned during the calculation."
   ]
  },
  {
   "cell_type": "code",
   "execution_count": null,
   "id": "63d81d01-46b4-42b2-9d98-6dc9f0aff949",
   "metadata": {},
   "outputs": [],
   "source": [
    "## Adding up the first 10 numbers - imperative programming\n",
    "\n",
    "# using mutable variables\n",
    "result = 0\n",
    "\n",
    "# and for-loops and/or if statements\n",
    "for i in range(11):\n",
    "    result = result + i\n",
    "    \n",
    "print(result)"
   ]
  },
  {
   "cell_type": "markdown",
   "id": "487c740d-c00f-41a3-ac3a-4d39b8be47ac",
   "metadata": {},
   "source": [
    "# Procedural Programming"
   ]
  },
  {
   "cell_type": "markdown",
   "id": "92004a71-1af6-4005-bf41-ef42a36e2bc5",
   "metadata": {},
   "source": [
    "Procedural programming is an expansion of imperative programming, which uses functions or procedures to encapsulate code."
   ]
  },
  {
   "cell_type": "code",
   "execution_count": null,
   "id": "f495b309-85cf-44c9-a4cb-49c1dc46b564",
   "metadata": {},
   "outputs": [],
   "source": [
    "## Adding up the first 10 numbers - procedural programming\n",
    "\n",
    "def summe_procedural(n):\n",
    "    result = 0\n",
    "\n",
    "    for i in range(n + 1):\n",
    "        result = result + i\n",
    "    \n",
    "    return result"
   ]
  },
  {
   "cell_type": "code",
   "execution_count": null,
   "id": "e89e3cb4-ffd8-4bf9-b004-f3a3883bfeca",
   "metadata": {},
   "outputs": [],
   "source": [
    "summe_procedural(10)"
   ]
  },
  {
   "cell_type": "markdown",
   "id": "02bab78f-a65f-4652-82f7-ff5a04c0995a",
   "metadata": {},
   "source": [
    "# Functional Programming"
   ]
  },
  {
   "cell_type": "markdown",
   "id": "01154bf6-d6fd-4c64-88bf-1de7f52b1abb",
   "metadata": {},
   "source": [
    "In functional programming we use functions to do our calculations. No variables are reassigned and a recursive use of functions substitutes the use of for- and while loops."
   ]
  },
  {
   "cell_type": "code",
   "execution_count": null,
   "id": "0202dae8-d203-483c-b501-41cedea4097e",
   "metadata": {},
   "outputs": [],
   "source": [
    "def summe_functional(n):\n",
    "    \n",
    "    if n == 0:\n",
    "        return 0\n",
    "    else:\n",
    "        return n + summe_functional(n - 1)"
   ]
  },
  {
   "cell_type": "code",
   "execution_count": null,
   "id": "1f1b8692-17f7-4921-9ed3-b84762cbf933",
   "metadata": {},
   "outputs": [],
   "source": [
    "summe_functional(10)"
   ]
  },
  {
   "cell_type": "markdown",
   "id": "b9b7322b-32f4-4363-b391-4500ccdecef9",
   "metadata": {},
   "source": [
    "# Object Oriented Programming (OOP)\n",
    "\n",
    "Object-oriented programming is a programming paradigm that provides a means of structuring programs so that properties and behaviors are bundled into individual objects.\n",
    "\n",
    "For instance, an object could represent a person with properties like a name, age, and address and behaviors such as walking, talking, breathing, and running. Or it could represent an email with properties like a recipient list, subject, and body and behaviors like adding attachments and sending.\n",
    "\n",
    "The key takeaway is that objects are at the center of object-oriented programming in Python."
   ]
  },
  {
   "cell_type": "code",
   "execution_count": null,
   "id": "f08d5fe2-1cb0-457d-92e0-14a1237cd976",
   "metadata": {},
   "outputs": [],
   "source": [
    "class sum_of_numbers:\n",
    "    def __init__(self):\n",
    "        self.variable = 0\n",
    "    \n",
    "    \n",
    "    \n",
    "    def summe_functional(self,n):\n",
    "    \n",
    "        if n == 0:\n",
    "            return 0\n",
    "        else:\n",
    "            return n + summe_functional(n - 1)\n",
    "        \n",
    "    def summe_procedural(self,n):\n",
    "        result = 0\n",
    "\n",
    "        for i in range(n + 1):\n",
    "            result = result + i\n",
    "    \n",
    "        return result"
   ]
  },
  {
   "cell_type": "code",
   "execution_count": null,
   "id": "7232f0ee-eac3-40c4-98c6-d739384688c5",
   "metadata": {},
   "outputs": [],
   "source": [
    "test = sum_of_numbers()"
   ]
  },
  {
   "cell_type": "code",
   "execution_count": null,
   "id": "00f5371d-e409-4cf1-8f04-4a24897ca85b",
   "metadata": {},
   "outputs": [],
   "source": [
    "test.summe_functional(10)"
   ]
  },
  {
   "cell_type": "code",
   "execution_count": null,
   "id": "8b7a6fbd-6c74-43a6-9338-d1d5df55d158",
   "metadata": {},
   "outputs": [],
   "source": [
    "test.summe_procedural(10)"
   ]
  },
  {
   "cell_type": "code",
   "execution_count": null,
   "id": "23dd38b5-39dd-4feb-aae6-81977eb18b18",
   "metadata": {},
   "outputs": [],
   "source": [
    "test.variable"
   ]
  },
  {
   "cell_type": "markdown",
   "id": "348cd858-8571-4fc4-b5ff-f03701979b36",
   "metadata": {},
   "source": [
    "# Classes\n",
    "\n",
    "Classes provide a means of bundling data and functionality together. Creating a new class creates a new type of object, allowing new instances of that type to be made. Each class instance can have attributes attached to it for maintaining its state. Class instances can also have methods (defined by its class) for modifying its state.\n",
    "\n",
    "Python classes provide all the standard features of Object Oriented Programming:\n",
    "\n",
    "- the class inheritance mechanism allows multiple base classes\n",
    "- a derived class can override any methods of its base class or classes, and\n",
    "- a method can call the method of a base class with the same name.\n",
    "\n",
    "Objects can contain arbitrary amounts and kinds of data. As is true for modules, classes partake of the dynamic nature of Python: they are created at runtime, and can be modified further after creation.\n",
    "\n",
    "## A First Look at Classes\n",
    "Classes introduce a little bit of new syntax, three new object types, and some new semantics.\n",
    "\n",
    "The simplest form of class definition looks like this:\n",
    "```python\n",
    "class ClassName:\n",
    "    <statement-1>\n",
    "    .\n",
    "    .\n",
    "    .\n",
    "    <statement-N>\n",
    "```  \n",
    "  \n",
    "## Class Objects\n",
    "Class objects support two kinds of operations: attribute references and instantiation.\n",
    "\n",
    "Attribute references use the standard syntax used for all attribute references in Python: `obj.name`. Valid attribute names are all the names that were in the class’s namespace when the class object was created. So, if the class definition looked like this:\n",
    "\n",
    "```python\n",
    "class MyClass:\n",
    "    \"\"\"A simple example class\"\"\"\n",
    "    i = 12345\n",
    "\n",
    "    def f(self):\n",
    "        return 'hello world'\n",
    "    \n",
    "    def print_i(self):\n",
    "        print(self.i)\n",
    "```\n",
    "then `MyClass.i` and `MyClass.f` are valid attribute references, returning an integer and a function object, respectively.\n",
    "\n",
    "Class instantiation uses function notation. Just pretend that the class object is a parameterless function that returns a new instance of the class. For example (assuming the above class):\n",
    "\n",
    "```python\n",
    "x = MyClass()\n",
    "```\n",
    "\n",
    "creates a new **instance** of the class and assigns this object to the local variable x."
   ]
  },
  {
   "cell_type": "code",
   "execution_count": null,
   "id": "8c20e366-0268-4e57-be18-f68751a0e768",
   "metadata": {},
   "outputs": [],
   "source": [
    "class MyClass:\n",
    "    \"\"\"A simple example class\"\"\"\n",
    "    i = 12345\n",
    "\n",
    "    def f(self):\n",
    "        return 'hello world'\n",
    "    \n",
    "    def print_i(self):\n",
    "        print(self.i)"
   ]
  },
  {
   "cell_type": "code",
   "execution_count": null,
   "id": "12ccf616-996b-4fd1-82e9-97147b6f7ecb",
   "metadata": {},
   "outputs": [],
   "source": [
    "x = MyClass()\n",
    "\n",
    "y = MyClass()"
   ]
  },
  {
   "cell_type": "code",
   "execution_count": null,
   "id": "06adb77b-6e0a-4cf5-910d-a024e8f38a4c",
   "metadata": {},
   "outputs": [],
   "source": [
    "x.i"
   ]
  },
  {
   "cell_type": "code",
   "execution_count": null,
   "id": "fa3ad253-6b90-4bdc-855a-1c211fa69cb4",
   "metadata": {},
   "outputs": [],
   "source": [
    "x.f()"
   ]
  },
  {
   "cell_type": "code",
   "execution_count": null,
   "id": "3027ee08-b7c7-4c98-9dfc-e274c5aeba16",
   "metadata": {},
   "outputs": [],
   "source": [
    "x.print_i()"
   ]
  },
  {
   "cell_type": "markdown",
   "id": "133090c1-2570-4cd4-ac48-4e2431f0b20b",
   "metadata": {},
   "source": [
    "## Example: `pd.DataFrame`\n",
    "We have seen pandas DataFrames quite a lot during the last sessions. \n",
    "\n",
    "Notice that `pd.DataFrame` is also a class containing **attributes** such as `columns`, `index`, `values`, `shape`"
   ]
  },
  {
   "cell_type": "code",
   "execution_count": null,
   "id": "e590de4c-399b-4260-9199-6caab2512141",
   "metadata": {},
   "outputs": [],
   "source": [
    "import pandas as pd\n",
    "df = pd.DataFrame({\"Name\": [\"Anthony\", \"Flea\", \"Chad\", \"John\"],\n",
    "                  \"Role\": [\"Singer\", \"Bassist\", \"Drummer\", \"Guitarist\"]})\n",
    "df"
   ]
  },
  {
   "cell_type": "code",
   "execution_count": null,
   "id": "eddb7e29-d920-4cdc-a966-d15bf76e359d",
   "metadata": {},
   "outputs": [],
   "source": [
    "print(f\"columns attribute:\\n{df.columns}\\n\")\n",
    "print(f\"index attribute:\\n{df.index}\\n\")\n",
    "print(f\"values attribute:\\n{df.values}\\n\")\n",
    "print(f\"shape attribute:\\n{df.shape}\")"
   ]
  },
  {
   "cell_type": "markdown",
   "id": "84374d6f-8fe6-4b99-83a9-0aded5487766",
   "metadata": {},
   "source": [
    "As (almost) every other class it also contains **methods** (i.e. functions bound to a class) such as `sort_values()`, `count()`"
   ]
  },
  {
   "cell_type": "code",
   "execution_count": null,
   "id": "11aff44e-e569-4104-8e02-d2d6e80ecfb4",
   "metadata": {},
   "outputs": [],
   "source": [
    "print(\"sort_values() method:\")\n",
    "display(df.sort_values(by=\"Name\"))\n",
    "\n",
    "print(\"\\ncount() method:\")\n",
    "display(df.count())"
   ]
  },
  {
   "cell_type": "markdown",
   "id": "f52c2dbd-589b-4be7-88da-3b9747b46eb3",
   "metadata": {},
   "source": [
    "### Challenge: Build your first class\n",
    "\n",
    "- Set up a class called `BankAccount`\n",
    "- Add an **attribute** `bank_name` to the class and assign a Name of your choice to it\n",
    "- Add a **method** `print_bank_name` that prints the `bank_name` variable"
   ]
  },
  {
   "cell_type": "code",
   "execution_count": null,
   "id": "3f8cb7ee-d664-4a78-8f6a-0f41024b49d1",
   "metadata": {},
   "outputs": [],
   "source": [
    "class MyClass:\n",
    "    \"\"\"A simple example class\"\"\"\n",
    "    i = 12345\n",
    "\n",
    "    \n",
    "    def print_i(self):\n",
    "        print(self.i)"
   ]
  },
  {
   "cell_type": "code",
   "execution_count": null,
   "id": "bffcba1c-2f79-4aab-b403-875fa41e35dd",
   "metadata": {},
   "outputs": [],
   "source": [
    "### Your code here..."
   ]
  },
  {
   "cell_type": "code",
   "execution_count": null,
   "id": "d9af3002-faa3-4f90-b088-20432c2da593",
   "metadata": {},
   "outputs": [],
   "source": [
    "# %load ../src/_solutions/bank_account_v0.py"
   ]
  },
  {
   "cell_type": "code",
   "execution_count": null,
   "id": "c839fb30-17ed-45fe-a0e5-0b072c36ccc5",
   "metadata": {},
   "outputs": [],
   "source": [
    "bank = BankAccount()\n",
    "bank.print_bank_name()"
   ]
  },
  {
   "cell_type": "markdown",
   "id": "a4d38ddd-f52b-472b-b46e-ae005bd0ee5f",
   "metadata": {},
   "source": [
    "## Instantiation\n",
    "The instantiation operation (“calling” a class object) creates an empty object. Many classes like to create objects with instances customized to a specific initial state. Therefore a class may define a special method named `__init__()`, like this:\n",
    "\n",
    "```python\n",
    "def __init__(self, data):\n",
    "    self.data = []\n",
    "```\n",
    "When a class defines an `__init__()` method, class instantiation automatically invokes `init()` for the newly-created class instance. The `__init__()` method may have arguments for greater flexibility.\n",
    "\n",
    "```python\n",
    "class AddressBook:\n",
    "     def __init__(self, name, email):\n",
    "         self.name = name\n",
    "         self.email = email\n",
    "```\n",
    "Now what can we do with instance objects? The only operations understood by instance objects are attribute references. There are two kinds of valid attribute names, data attributes and methods.\n",
    "\n",
    "```python\n",
    "class AddressBook:\n",
    "     def __init__(self, name, email):\n",
    "         self.name = name\n",
    "         self.email = email\n",
    "            \n",
    "     def print_name(self):\n",
    "         print(f'Hi, {self.name}. Your email is {self.email}')\n",
    "```"
   ]
  },
  {
   "cell_type": "code",
   "execution_count": null,
   "id": "58cd9aff-7cb8-487c-a5b7-13d55355d6cf",
   "metadata": {},
   "outputs": [],
   "source": [
    "class AddressBook:\n",
    "     def __init__(self, name, email):\n",
    "         self.name = name\n",
    "         self.email = email\n",
    "            \n",
    "     def print_name(self):\n",
    "         print(f'Hi, {self.name}. Your email is {self.email}')"
   ]
  },
  {
   "cell_type": "code",
   "execution_count": null,
   "id": "8efe2d90-04df-4629-8782-62dcba480f23",
   "metadata": {},
   "outputs": [],
   "source": [
    "x = AddressBook('joe', 'joe@email.de')"
   ]
  },
  {
   "cell_type": "code",
   "execution_count": null,
   "id": "2874e8d7-79b0-4873-8be7-3774e10aef3f",
   "metadata": {},
   "outputs": [],
   "source": [
    "x.print_name()"
   ]
  },
  {
   "cell_type": "markdown",
   "id": "83f5a6f1-df8c-4440-9e24-e3a501ca3f8f",
   "metadata": {},
   "source": [
    "### Challenge: Add `__init__()` function\n",
    "- Implement a `__init__()` function which takes `bank_name` and `customer_name` as arguments and instantiates the class with them"
   ]
  },
  {
   "cell_type": "code",
   "execution_count": null,
   "id": "600c9280-5ee8-4317-9588-3ada28ba9401",
   "metadata": {},
   "outputs": [],
   "source": [
    "class BankAccount:\n",
    "    ### your code here ...\n",
    "    pass"
   ]
  },
  {
   "cell_type": "code",
   "execution_count": null,
   "id": "4e3ac960-a3e1-4dcd-9375-91a5176405fa",
   "metadata": {},
   "outputs": [],
   "source": [
    "# %load ../src/_solutions/bank_account_v1.py"
   ]
  },
  {
   "cell_type": "code",
   "execution_count": null,
   "id": "ef177a10-42e6-4517-ad51-25d71d7ebd6c",
   "metadata": {},
   "outputs": [],
   "source": [
    "bank_lisa = BankAccount('Commerzbank', 'Lisa')\n",
    "bank_lisa.print_bank_name()\n",
    "bank_lisa.print_customer_name()"
   ]
  },
  {
   "cell_type": "code",
   "execution_count": null,
   "id": "20bc5e05-6023-480b-99dc-10412cf542a3",
   "metadata": {},
   "outputs": [],
   "source": [
    "bank_aleks = BankAccount('Sparkasse', 'Aleks')\n",
    "bank_aleks.print_bank_name()\n",
    "bank_aleks.print_customer_name()"
   ]
  },
  {
   "cell_type": "code",
   "execution_count": null,
   "id": "8e214e45-7a44-41f4-9535-19c0e5208e0f",
   "metadata": {},
   "outputs": [],
   "source": [
    "dir(bank_lisa)"
   ]
  },
  {
   "cell_type": "markdown",
   "id": "e34882d7-59f4-47d8-a8e5-18f838cfd3b7",
   "metadata": {},
   "source": [
    "## Printing a class instance\n",
    "\n",
    "Upon trying to print a class instance you will see a weird looking output:\n",
    "\n",
    "- Something like `<__main__.ClassName object at 0x0000FFFF42FFFF42>`.\n",
    "\n",
    "To actually make a object printable you need to implement a `__str__()` method.\n",
    "\n",
    "Example:\n",
    "```python\n",
    "def __str__(self):\n",
    "    return \"Hello World\"\n",
    "```"
   ]
  },
  {
   "cell_type": "code",
   "execution_count": null,
   "id": "35850cd4-2ef8-4711-a8b7-798bf2502383",
   "metadata": {},
   "outputs": [],
   "source": [
    "print(bank_lisa)"
   ]
  },
  {
   "cell_type": "markdown",
   "id": "633db5dd-59af-4296-a781-f8f09e5abf94",
   "metadata": {},
   "source": [
    "### Challenge: Add a `__str__()` method"
   ]
  },
  {
   "cell_type": "code",
   "execution_count": null,
   "id": "538c611b-4a6e-4e4b-b1f6-624d5a459db1",
   "metadata": {},
   "outputs": [],
   "source": [
    "class BankAccount:\n",
    "    def __init__(self, bank_name, customer_name):\n",
    "        self.bank_name = bank_name\n",
    "        self.customer_name = customer_name\n",
    "    \n",
    "    def print_bank_name(self):\n",
    "        print(f\"My name is {self.bank_name}\")\n",
    "        \n",
    "    def print_customer_name(self):\n",
    "        print(f\"This account belongs to {self.customer_name}\")\n",
    "        \n",
    "    ### Your code here...\n",
    "    "
   ]
  },
  {
   "cell_type": "code",
   "execution_count": null,
   "id": "d02f0123-0626-417d-9375-7ae4dc4dddf3",
   "metadata": {},
   "outputs": [],
   "source": [
    "# %load ../src/_solutions/bank_account_v2.py"
   ]
  },
  {
   "cell_type": "code",
   "execution_count": null,
   "id": "9d6befe2-f940-4497-a8d2-5f45b46d7880",
   "metadata": {},
   "outputs": [],
   "source": [
    "bank_lisa = BankAccount('Commerzbank', 'Lisa')\n",
    "print(bank_lisa)"
   ]
  },
  {
   "cell_type": "code",
   "execution_count": null,
   "id": "f8c05bbe-97aa-4b7c-9212-1ba6610615c0",
   "metadata": {},
   "outputs": [],
   "source": [
    "bank_aleks = BankAccount('Sparkasse', 'Aleks')\n",
    "print(bank_aleks)"
   ]
  },
  {
   "cell_type": "markdown",
   "id": "958a55f1-79e5-4b63-88cc-046555db5cb8",
   "metadata": {},
   "source": [
    "## Private attributes and methods\n",
    "You can \"hide\" attributes and methods by prepending `__` to a attribute/method name.\n",
    "It then won't get automatically suggested (and is hard to access, _though not impossible!_)\n",
    "\n",
    "Keep in mind that Python doesn't offer Encapsulation such as Java for example does. The private attribute or method is not in fact private, just hidden!"
   ]
  },
  {
   "cell_type": "code",
   "execution_count": null,
   "id": "fb43cb6d-f1e9-4400-b7e1-f15f2132e68c",
   "metadata": {},
   "outputs": [],
   "source": [
    "dir(BankAccount)"
   ]
  },
  {
   "cell_type": "code",
   "execution_count": null,
   "id": "c43dc9a7-8d63-40af-946e-aec0b3a68662",
   "metadata": {},
   "outputs": [],
   "source": [
    "class BankAccount:    \n",
    "    def __init__(self, bank_name, customer_name):\n",
    "        self.bank_name = bank_name\n",
    "        self.customer_name =  customer_name\n",
    "        self.__balance = 0\n",
    "    \n",
    "    def __str__(self):\n",
    "        return f'This {self.bank_name} account belongs to {self.customer_name}'\n",
    "\n",
    "    def print_bank_name(self):\n",
    "        print('My name is', self.bank_name)\n",
    "         \n",
    "    def print_customer_name(self):\n",
    "        print('This account belongs to', self.customer_name)\n",
    "        \n",
    "    # public method to access private attribute\n",
    "    def get_balance(self):\n",
    "        return self.__balance"
   ]
  },
  {
   "cell_type": "code",
   "execution_count": null,
   "id": "782fc1a7-80e2-4726-a23a-ce9d84fd4050",
   "metadata": {},
   "outputs": [],
   "source": [
    "bank_lisa = BankAccount('Commerzbank', 'Lisa')\n",
    "bank_lisa.get_balance()"
   ]
  },
  {
   "cell_type": "code",
   "execution_count": null,
   "id": "d12f0d95-e644-46c0-9479-c2e6246349e2",
   "metadata": {},
   "outputs": [],
   "source": [
    "dir(bank_lisa)"
   ]
  },
  {
   "cell_type": "code",
   "execution_count": null,
   "id": "2b27c82c-7e97-419f-a77b-b041af638d62",
   "metadata": {},
   "outputs": [],
   "source": [
    "# See: You can access hidden variables by using instance._ClassName__hiddenVariableName\n",
    "# and even overwrite it! So there are no secure variables in Python\n",
    "bank_lisa._BankAccount__balance = 2"
   ]
  },
  {
   "cell_type": "code",
   "execution_count": null,
   "id": "828c3804-d5d1-45c3-9c20-f3e4914042b7",
   "metadata": {},
   "outputs": [],
   "source": [
    "bank_lisa.get_balance()"
   ]
  },
  {
   "cell_type": "markdown",
   "id": "9f58acb0-407d-4ba2-8b7d-a3709596aa9d",
   "metadata": {},
   "source": [
    "## Challenge: Extend the class for to \"fully\" featured bank account\n",
    "Add the following:\n",
    "- deposit() method\n",
    "- withdraw() method\n",
    "- pin attribute (ask for it before deposit and withdraw)\n",
    "- (opt) lock account after 3 entering a wrong pin three times"
   ]
  },
  {
   "cell_type": "code",
   "execution_count": null,
   "id": "5ee61ed5-d895-4ed9-b268-3f795384ecfe",
   "metadata": {},
   "outputs": [],
   "source": [
    "class BankAccount:    \n",
    "    def __init__(self, bank_name, customer_name):\n",
    "        self.bank_name = bank_name\n",
    "        self.customer_name =  customer_name\n",
    "        self.__balance = 0\n",
    "    \n",
    "    def __str__(self):\n",
    "        return f'This {self.bank_name} account belongs to {self.customer_name}'\n",
    "\n",
    "    def print_bank_name(self):\n",
    "        print('My name is', self.bank_name)\n",
    "         \n",
    "    def print_customer_name(self):\n",
    "        print('This account belongs to', self.customer_name)\n",
    "        \n",
    "    # public method to access private attribute\n",
    "    def get_balance(self):\n",
    "        return self.__balance\n",
    "    \n",
    "    ### Your code here..."
   ]
  },
  {
   "cell_type": "code",
   "execution_count": null,
   "id": "074341f1-e1ce-4e97-b340-dca401befb27",
   "metadata": {},
   "outputs": [],
   "source": [
    "# %load ../src/_solutions/bank_account_v3.py"
   ]
  },
  {
   "cell_type": "code",
   "execution_count": null,
   "id": "c5b97c02-a2bf-4224-8bdc-56247e81dfe7",
   "metadata": {},
   "outputs": [],
   "source": [
    "bank = BankAccount('Sparkasse', 'Lisa', '7777')"
   ]
  },
  {
   "cell_type": "code",
   "execution_count": null,
   "id": "1a961e31-100e-4f57-9f22-34590920d237",
   "metadata": {},
   "outputs": [],
   "source": [
    "bank.deposit(400)"
   ]
  },
  {
   "cell_type": "code",
   "execution_count": null,
   "id": "55169c4d-fcb3-485a-9191-54cb7eb9c298",
   "metadata": {},
   "outputs": [],
   "source": [
    "bank.get_balance()"
   ]
  },
  {
   "cell_type": "code",
   "execution_count": null,
   "id": "45afd952-ba6b-421c-beb2-a740d9cd4b4a",
   "metadata": {},
   "outputs": [],
   "source": [
    "bank.withdraw(100)"
   ]
  },
  {
   "cell_type": "code",
   "execution_count": null,
   "id": "19db3008-f574-4f51-a885-9890ee15879d",
   "metadata": {},
   "outputs": [],
   "source": [
    "bank.get_balance()"
   ]
  },
  {
   "cell_type": "markdown",
   "id": "74bca742-7904-4eb0-9b2d-79661da59895",
   "metadata": {},
   "source": [
    "## Inheritance\n",
    "\n",
    "A child class can inherit from a parent class, inheriting all attributes and methods from the specified parent function.\n",
    "\n",
    "Syntax: \n",
    "```python\n",
    "class ChildClass(ParentClass):\n",
    "    pass\n",
    "```\n",
    "\n",
    "You can then extend the child class or even overwrite some of it's functionality. \n",
    "\n",
    "You can call a method or attribute of the parent class using the `super()` keyword."
   ]
  },
  {
   "cell_type": "code",
   "execution_count": null,
   "id": "a09040cf-e7e3-4299-b74c-36d63eceb9c9",
   "metadata": {},
   "outputs": [],
   "source": [
    "class SparkassenSpecialAccount(BankAccount):\n",
    "\n",
    "    def __init__(self, customer_name, pin):\n",
    "        super().__init__(bank_name = \"Sparkasse\", customer_name = customer_name, pin = pin)\n",
    "        self._BankAccount__balance = 500"
   ]
  },
  {
   "cell_type": "code",
   "execution_count": null,
   "id": "fac931ac-097b-4493-ae6c-97c8e5e41000",
   "metadata": {},
   "outputs": [],
   "source": [
    "sparkasse = SparkassenSpecialAccount(\"Aleks\", \"1234\")"
   ]
  },
  {
   "cell_type": "code",
   "execution_count": null,
   "id": "fe9fe964-53ac-4a78-9816-fee98507123c",
   "metadata": {},
   "outputs": [],
   "source": [
    "print(sparkasse)"
   ]
  },
  {
   "cell_type": "code",
   "execution_count": null,
   "id": "a1c73209-5799-41e8-a6cf-c3c63898ae5f",
   "metadata": {},
   "outputs": [],
   "source": [
    "sparkasse.get_balance()"
   ]
  },
  {
   "cell_type": "code",
   "execution_count": null,
   "id": "49cf4ba0-abb6-42a8-86a8-d8a660c1a79b",
   "metadata": {},
   "outputs": [],
   "source": [
    "sparkasse.deposit(1000)"
   ]
  },
  {
   "cell_type": "code",
   "execution_count": null,
   "id": "5857ed3c-c36a-48b3-b3d9-51572c77c4ff",
   "metadata": {},
   "outputs": [],
   "source": [
    "sparkasse.get_balance()"
   ]
  },
  {
   "cell_type": "markdown",
   "id": "b3edbdf9-ed08-4bef-b261-0e67c1a52f51",
   "metadata": {},
   "source": [
    "## Challenge: Program a calculator to add two numbers and an option to save the result using `OOP` "
   ]
  },
  {
   "cell_type": "code",
   "execution_count": null,
   "id": "e272ab6a-911a-411b-846e-6cd78a1b329e",
   "metadata": {},
   "outputs": [],
   "source": [
    "#Your Code here ..."
   ]
  },
  {
   "cell_type": "code",
   "execution_count": null,
   "id": "92f570a0-70f1-4b26-8383-200f0892a874",
   "metadata": {},
   "outputs": [],
   "source": [
    "# %load ../src/_solutions/calculator.py"
   ]
  },
  {
   "cell_type": "code",
   "execution_count": null,
   "id": "b2b59971-5b4c-4dd6-988c-a6d02d4881fe",
   "metadata": {},
   "outputs": [],
   "source": [
    "calc = calculator()"
   ]
  },
  {
   "cell_type": "code",
   "execution_count": null,
   "id": "55d2c82c-7b00-426e-ade9-458e6dac03bb",
   "metadata": {},
   "outputs": [],
   "source": [
    "calc.add_numbers(1, 2)"
   ]
  },
  {
   "cell_type": "code",
   "execution_count": null,
   "id": "44b52cf6-2004-4ef9-b3f4-c36605fb4619",
   "metadata": {},
   "outputs": [],
   "source": [
    "calc.var1"
   ]
  },
  {
   "cell_type": "code",
   "execution_count": null,
   "id": "0b086705-5e6b-49f7-9112-e94d88f40940",
   "metadata": {},
   "outputs": [],
   "source": [
    "calc.var2"
   ]
  },
  {
   "cell_type": "code",
   "execution_count": null,
   "id": "02952560-1843-4118-9da7-3b91242e7dce",
   "metadata": {},
   "outputs": [],
   "source": [
    "calc.save_result()"
   ]
  },
  {
   "cell_type": "code",
   "execution_count": null,
   "id": "e708550a-7004-48aa-b777-c6ba15dac3c1",
   "metadata": {},
   "outputs": [],
   "source": [
    "calc.save"
   ]
  },
  {
   "cell_type": "markdown",
   "id": "a80e9fc0-3b76-48a4-a9dc-50c5fc64399b",
   "metadata": {},
   "source": [
    "## Challenge: Program a stop watch using `OOP`. Use the time in seconds as instance variable and create a method `measure_time` to output the time in seconds. \n",
    "*Hint*: Remember the `time` modul and the `time.sleep()` method."
   ]
  },
  {
   "cell_type": "code",
   "execution_count": null,
   "id": "8cda24ae-51c5-4650-afb6-f559b72dd1df",
   "metadata": {},
   "outputs": [],
   "source": [
    "#Your Code here ..."
   ]
  },
  {
   "cell_type": "code",
   "execution_count": null,
   "id": "b1085706-d341-41e5-b819-7bb8b37af2ae",
   "metadata": {},
   "outputs": [],
   "source": [
    "# %load ../src/_solutions/stopwatch.py"
   ]
  },
  {
   "cell_type": "code",
   "execution_count": null,
   "id": "dd4df31b-55dc-4127-a68a-fe3cdcdaec3e",
   "metadata": {},
   "outputs": [],
   "source": [
    "x = StopWatch(5)"
   ]
  },
  {
   "cell_type": "code",
   "execution_count": null,
   "id": "ea43c7b7-0bc0-4a93-8f71-f5481b0780c2",
   "metadata": {},
   "outputs": [],
   "source": [
    "x.measure_time()"
   ]
  },
  {
   "cell_type": "markdown",
   "id": "38953623-8344-4932-b607-42d6e2ac8215",
   "metadata": {},
   "source": [
    "## Challenge: Implement the game 'Escape Room'"
   ]
  },
  {
   "cell_type": "markdown",
   "id": "95ceacf4-5fb5-4517-8d5f-830137cd99e5",
   "metadata": {},
   "source": [
    "Aufgabe: Mit Klassen ein Textadventure programmieren. Spieler wird mit\n",
    "\n",
    "\n",
    "`player = Escape_Room()`\n",
    "\n",
    "instanziert.\n",
    "\n",
    "Es gibt 2 Räume. Ein Raum enthält einen Schlüssel und eine Türe. Wenn der Spieler die Tür mit dem Schlüssel aufsperrt ist das Spiel gewonnen.\n",
    "\n",
    "Spielerinstanz hat folgende Methoden:\n",
    "\n",
    "\n",
    "`player.walk()` ... bewegt von Raum zu Raum\n",
    "\n",
    "`player.look()` ... gibt Beschreibung des Raums\n",
    "\n",
    "`player.take()` ... Objekt(Schlüssel) aufnehmen\n",
    "\n",
    "`player.open()` ... öffnet Türe falls Spieler den Schlüssel besitzt\n",
    "\n",
    "```python\n",
    "class Escape_Room:\n",
    "    def __init__(self):\n",
    "        \n",
    "        self.room1 = 'You see an empty room. There´s a door to the North.'\n",
    "        self.room1_id = True\n",
    "...\n",
    "```\n",
    "\n"
   ]
  },
  {
   "cell_type": "code",
   "execution_count": null,
   "id": "5e314eee-c378-4f2c-98c0-0377d896b66f",
   "metadata": {},
   "outputs": [],
   "source": [
    "#Your Code here ..."
   ]
  },
  {
   "cell_type": "code",
   "execution_count": null,
   "id": "9ef0c165-a2ef-4697-a83c-55abf2408d97",
   "metadata": {},
   "outputs": [],
   "source": [
    "# %load ../src/_solutions/escape_room.py"
   ]
  },
  {
   "cell_type": "code",
   "execution_count": null,
   "id": "6f78532e-b2f4-4491-87c8-1b9b45627bdf",
   "metadata": {},
   "outputs": [],
   "source": [
    "player = Escape_Room()"
   ]
  },
  {
   "cell_type": "code",
   "execution_count": null,
   "id": "fa54e200-96c4-4a21-90d2-b912ae5df756",
   "metadata": {},
   "outputs": [],
   "source": [
    "player.look()"
   ]
  },
  {
   "cell_type": "code",
   "execution_count": null,
   "id": "b6e1cf3f-b54f-42ef-9a6c-6bf8ffd8643a",
   "metadata": {},
   "outputs": [],
   "source": [
    "player.room1_id"
   ]
  },
  {
   "cell_type": "code",
   "execution_count": null,
   "id": "cc168272-4640-4bf9-ac18-9589e0edad81",
   "metadata": {},
   "outputs": [],
   "source": [
    "player.walk('North')"
   ]
  },
  {
   "cell_type": "code",
   "execution_count": null,
   "id": "c13173c8-1b0c-4d1d-b17b-f5f7aa12fbfc",
   "metadata": {},
   "outputs": [],
   "source": [
    "player.room1_id"
   ]
  },
  {
   "cell_type": "code",
   "execution_count": null,
   "id": "6c86f7c0-262d-4e15-9054-80429b8712c0",
   "metadata": {},
   "outputs": [],
   "source": [
    "player.take('key')"
   ]
  },
  {
   "cell_type": "code",
   "execution_count": null,
   "id": "c835a919-2542-4304-a975-49ac8b83cf14",
   "metadata": {},
   "outputs": [],
   "source": [
    "player.walk('South')"
   ]
  },
  {
   "cell_type": "code",
   "execution_count": null,
   "id": "a231cc4e-c6b7-4cda-8afd-c71da8c18216",
   "metadata": {},
   "outputs": [],
   "source": [
    "player.open('door')"
   ]
  },
  {
   "cell_type": "markdown",
   "id": "09e8d438-af64-40b2-8473-9c2cb48da915",
   "metadata": {},
   "source": [
    "## Planet Simulator using `pygame`"
   ]
  },
  {
   "cell_type": "code",
   "execution_count": null,
   "id": "7a98583b-ca97-4dd4-94a5-f5ec239ea1f0",
   "metadata": {},
   "outputs": [],
   "source": [
    "# conda install pygame"
   ]
  },
  {
   "cell_type": "code",
   "execution_count": null,
   "id": "3f4c0b6b-07e2-4b4c-b9a9-846fe83ee575",
   "metadata": {},
   "outputs": [],
   "source": [
    "# Inital setup pygame\n",
    "\n",
    "import pygame\n",
    "#import math\n",
    "\n",
    "# Create pygame-object\n",
    "pygame.init()\n",
    "\n",
    "# Setup display window\n",
    "WIDTH, HEIGHT =  800, 800\n",
    "WIN = pygame.display.set_mode((WIDTH, HEIGHT))\n",
    "pygame.display.set_caption(\"Planet Simulation\")\n",
    "\n",
    "# Define colors\n",
    "WHITE = (255, 255, 255)\n",
    "YELLOW = (255, 255, 0)\n",
    "BLUE = (100, 149, 237)\n",
    "RED = (188, 39, 50)\n",
    "DARK_GREY = (80, 78, 81)\n",
    "\n",
    "# Define font\n",
    "FONT = pygame.font.SysFont(\"comicsans\", 16)\n",
    "\n",
    "# main function: while-loop for running the program until window is closed\n",
    "def main():\n",
    "    # ending condition\n",
    "\trun = True\n",
    "\t\n",
    "\n",
    "    ### code we want to execute\n",
    "    \n",
    "\twhile run:\n",
    "\t\t# Background color\n",
    "\t\tWIN.fill((0, 0, 0))\n",
    "        \n",
    "\n",
    "        # returns a list of events in pygame\n",
    "\t\tfor event in pygame.event.get():\n",
    "\t\t\tif event.type == pygame.QUIT:\n",
    "\t\t\t\trun = False\n",
    "\n",
    "\t\t\n",
    "        # Update window\n",
    "\t\tpygame.display.update()\n",
    "        \n",
    "    # exit pygame\n",
    "\tpygame.quit()\n",
    "\n",
    "\n",
    "# execute main-function\n",
    "main()"
   ]
  },
  {
   "cell_type": "markdown",
   "id": "2ada6688-add2-443d-be35-3aa74f05c43b",
   "metadata": {},
   "source": [
    "## Create Planet Class"
   ]
  },
  {
   "cell_type": "markdown",
   "id": "038f1cc2-1f81-496f-a5a5-5fcdaea7e9d9",
   "metadata": {},
   "source": [
    "$$F = G \\cdot \\frac{m_1 \\cdot m_2}{r^2} $$"
   ]
  },
  {
   "cell_type": "markdown",
   "id": "2783dddb-0650-40db-a98b-f318deef63c1",
   "metadata": {},
   "source": [
    "$G ... \\text{Gravitational constant} = 6.67428 \\cdot 10^{-11}$"
   ]
  },
  {
   "cell_type": "markdown",
   "id": "fa22308a-56b0-46bf-8d7c-23fa258c363a",
   "metadata": {},
   "source": [
    "$m_1, m_2 ... \\text{mass 1, mass 2}$"
   ]
  },
  {
   "cell_type": "markdown",
   "id": "93bc92aa-c3c5-4045-83b3-0ebd930bb357",
   "metadata": {},
   "source": [
    "$r ... \\text{Distance between mass 1, mass 2}$"
   ]
  },
  {
   "cell_type": "code",
   "execution_count": null,
   "id": "c1b51e56-f27b-412a-9b86-b46994555f86",
   "metadata": {},
   "outputs": [],
   "source": [
    "# Create Planet class, AU ... astronimcal unit, G ... gravitational constant, SCALE ... 1AU = 100 pixels, TIMESTEP ... 1 day in seconds\n",
    "class Planet:\n",
    "    \n",
    "    # Class constants for planet or sun creation\n",
    "    AU = 149.6e6 * 1000 # in m\n",
    "    G = 6.67428e-11     # in m**3/(kg * s**2)\n",
    "    SCALE = 250 / AU    # 1AU = 100 pixels\n",
    "    \n",
    "    # Defines time scale\n",
    "    TIMESTEP = 3600*24 # 1 day\n",
    "\n",
    "    # Instance constants for coordinates, radius, color and mass\n",
    "    def __init__(self, x, y, radius, color, mass):\n",
    "        self.x = x\n",
    "        self.y = y\n",
    "        self.radius = radius\n",
    "        self.color = color\n",
    "        self.mass = mass\n",
    "\n",
    "        # Variable for orbit coordinates\n",
    "        self.orbit = []\n",
    "        # Is the object the sun? If yes don´t draw distance\n",
    "        self.sun = False\n",
    "        # Show distance to sun\n",
    "        self.distance_to_sun = 0\n",
    "\n",
    "        # Initial velocity\n",
    "        self.x_vel = 0\n",
    "        self.y_vel = 0\n",
    "\n",
    "    # Draw method - Drawing planets and sun\n",
    "    def draw(self, win):\n",
    "        x = self.x * self.SCALE + WIDTH / 2  # x-coordinate\n",
    "        y = self.y * self.SCALE + HEIGHT / 2 # y-coordinate\n",
    "        # Draw a circle\n",
    "        pygame.draw.circle(win, self.color, (x, y), self.radius)"
   ]
  },
  {
   "cell_type": "markdown",
   "id": "1beeb566-2530-4ab0-8587-66337a850aed",
   "metadata": {},
   "source": [
    "## Create Sun from Planet Class"
   ]
  },
  {
   "cell_type": "code",
   "execution_count": null,
   "id": "abc66cc1-b081-4156-b4fe-1a15cea336eb",
   "metadata": {},
   "outputs": [],
   "source": [
    "sun = Planet(0, 0, 30, YELLOW, 1.98892 * 10**30)"
   ]
  },
  {
   "cell_type": "code",
   "execution_count": null,
   "id": "24ceb278-1bd5-41c0-8716-a9df91cbf3d1",
   "metadata": {},
   "outputs": [],
   "source": [
    "# Draw sun at the center of the window\n",
    "# Create pygame-object\n",
    "import pygame\n",
    "pygame.init()\n",
    "\n",
    "# Setup display window\n",
    "WIDTH, HEIGHT =  800, 800\n",
    "WIN = pygame.display.set_mode((WIDTH, HEIGHT))\n",
    "pygame.display.set_caption(\"Planet Simulation\")\n",
    "\n",
    "# Define colors\n",
    "# venus\n",
    "WHITE = (255, 255, 255)\n",
    "# sun\n",
    "YELLOW = (255, 255, 0)\n",
    "# earth\n",
    "BLUE = (100, 149, 237)\n",
    "# mars\n",
    "RED = (188, 39, 50)\n",
    "# mercury\n",
    "DARK_GREY = (80, 78, 81)\n",
    "\n",
    "# Define font\n",
    "FONT = pygame.font.SysFont(\"comicsans\", 16)\n",
    "\n",
    "# main function: while-loop for running the program until window is closed\n",
    "def main():\n",
    "    # ending condition\n",
    "\trun = True\n",
    "    # synchronization of frame rate\n",
    "\tclock = pygame.time.Clock()\n",
    "\n",
    "\tsun = Planet(0, 0, 30, YELLOW, 1.98892 * 10**30)\n",
    "\tsun.sun = True\n",
    "\n",
    "\tplanets = [sun]\n",
    "\n",
    "\twhile run:\n",
    "\t\tclock.tick(60)\n",
    "\t\tWIN.fill((0, 0, 0))\n",
    "\n",
    "        # returns a list of events in pygame\n",
    "\t\tfor event in pygame.event.get():\n",
    "\t\t\tif event.type == pygame.QUIT:\n",
    "\t\t\t\trun = False\n",
    "\n",
    "\t\tfor planet in planets:\n",
    "\t\t\t#planet.update_position(planets)\n",
    "\t\t\tplanet.draw(WIN)\n",
    "\n",
    "\t\tpygame.display.update()\n",
    "\n",
    "\tpygame.quit()\n",
    "\n",
    "\n",
    "# execute main-function\n",
    "main()"
   ]
  },
  {
   "cell_type": "markdown",
   "id": "bbb57605-5ad5-471f-ba38-6fe8a67ce380",
   "metadata": {},
   "source": [
    "## Challenge: Use the Planet class to add the inner planets (mercury, venus, earth, mars) to the model\n",
    "\n",
    "\n",
    "Earth   ... distance to sun = $1$ AU, x = $0$, y = $16$, BLUE ,mass = $5.9742 \\cdot 10^{24}$ kg\n",
    "\n",
    "Mars    ... distance to sun = $1.524$ AU, x = $0$, y = $12$, RED, mass = $6.39 \\cdot 10^{23}$ kg\n",
    "\n",
    "Mercury ... distance to sun = $0.387$ AU, x = $0$, y = $8$, DARKGREY, mass = $3.3 \\cdot 10^{23}$ kg\n",
    "\n",
    "Venus   ... distance to sun = $0.723$ AU, x = $0$, y = $14$, WHITE, mass = $4.8685 \\cdot 10^{24}$ kg"
   ]
  },
  {
   "cell_type": "code",
   "execution_count": null,
   "id": "6576e3ed-c2be-4088-ac0f-df0283941ac8",
   "metadata": {},
   "outputs": [],
   "source": [
    "### Your code here..."
   ]
  },
  {
   "cell_type": "code",
   "execution_count": null,
   "id": "e674bfb5-b1e3-4019-bb12-2f7a39a1edc6",
   "metadata": {},
   "outputs": [],
   "source": [
    "# %load ../src/_solutions/planets.py"
   ]
  },
  {
   "cell_type": "markdown",
   "id": "520e0f1a-019e-4de3-aaf6-32695d1d144a",
   "metadata": {},
   "source": [
    "## Add Planets"
   ]
  },
  {
   "cell_type": "code",
   "execution_count": null,
   "id": "4243c43c-45f3-45e9-81e6-95329955233b",
   "metadata": {},
   "outputs": [],
   "source": [
    "pygame.init()\n",
    "\n",
    "# Setup display window\n",
    "WIDTH, HEIGHT =  800, 800\n",
    "WIN = pygame.display.set_mode((WIDTH, HEIGHT))\n",
    "pygame.display.set_caption(\"Planet Simulation\")\n",
    "\n",
    "# main function: while-loop for running the program until window is closed\n",
    "def main():\n",
    "    # ending condition\n",
    "\trun = True\n",
    "    # synchronization of frame rate\n",
    "\tclock = pygame.time.Clock()\n",
    "\n",
    "\tsun = Planet(0, 0, 30, YELLOW, 1.98892 * 10**30)\n",
    "\tsun.sun = True\n",
    "\n",
    "\tplanets = [sun, earth, mars, mercury, venus]\n",
    "\n",
    "\twhile run:\n",
    "\t\tclock.tick(60)\n",
    "\t\tWIN.fill((0, 0, 0))\n",
    "\n",
    "        # returns a list of events in pygame\n",
    "\t\tfor event in pygame.event.get():\n",
    "\t\t\tif event.type == pygame.QUIT:\n",
    "\t\t\t\trun = False\n",
    "\n",
    "\t\tfor planet in planets:\n",
    "\t\t\t#planet.update_position(planets)\n",
    "\t\t\tplanet.draw(WIN)\n",
    "\n",
    "\t\tpygame.display.update()\n",
    "\n",
    "\tpygame.quit()\n",
    "\n",
    "\n",
    "# execute main-function\n",
    "main()"
   ]
  },
  {
   "cell_type": "markdown",
   "id": "4b35927d-14b9-43fc-9a63-a464874d3447",
   "metadata": {},
   "source": [
    "## Add gravity"
   ]
  },
  {
   "cell_type": "code",
   "execution_count": null,
   "id": "775adbcd-ea46-40bc-9342-7a6c55151d2a",
   "metadata": {},
   "outputs": [],
   "source": [
    "import pygame\n",
    "import math\n",
    "\n",
    "# Create pygame-object\n",
    "pygame.init()\n",
    "\n",
    "# Setup display window\n",
    "WIDTH, HEIGHT =  800, 800\n",
    "WIN = pygame.display.set_mode((WIDTH, HEIGHT))\n",
    "pygame.display.set_caption(\"Planet Simulation\")\n",
    "\n",
    "# Define colors with RGB values\n",
    "WHITE = (255, 255, 255)\n",
    "YELLOW = (255, 255, 0)\n",
    "BLUE = (100, 149, 237)\n",
    "RED = (188, 39, 50)\n",
    "DARK_GREY = (80, 78, 81)\n",
    "\n",
    "# Define font\n",
    "FONT = pygame.font.SysFont(\"comicsans\", 16)\n",
    "\n",
    "# Create Planet class, AU ... astronimcal unit, G ... gravitational constant, SCALE ... 1AU = 100 pixels, TIMESTEP ... 1 day in seconds\n",
    "class Planet:\n",
    "\tAU = 149.6e6 * 1000\n",
    "\tG = 6.67428e-11\n",
    "\tSCALE = 250 / AU  # 1AU = 100 pixels\n",
    "\tTIMESTEP = 3600*24 # 1 day\n",
    "\n",
    "\tdef __init__(self, x, y, radius, color, mass):\n",
    "\t\tself.x = x\n",
    "\t\tself.y = y\n",
    "\t\tself.radius = radius\n",
    "\t\tself.color = color\n",
    "\t\tself.mass = mass\n",
    "\n",
    "\t\tself.orbit = []\n",
    "\t\tself.sun = False\n",
    "\t\tself.distance_to_sun = 0\n",
    "\n",
    "\t\tself.x_vel = 0\n",
    "\t\tself.y_vel = 0\n",
    "\n",
    "\tdef draw(self, win):\n",
    "\t\tx = self.x * self.SCALE + WIDTH / 2\n",
    "\t\ty = self.y * self.SCALE + HEIGHT / 2\n",
    "\n",
    "\t\tif len(self.orbit) > 2:\n",
    "\t\t\tupdated_points = []\n",
    "\t\t\tfor point in self.orbit:\n",
    "\t\t\t\tx, y = point\n",
    "\t\t\t\tx = x * self.SCALE + WIDTH / 2\n",
    "\t\t\t\ty = y * self.SCALE + HEIGHT / 2\n",
    "\t\t\t\tupdated_points.append((x, y))\n",
    "\n",
    "\t\t\tpygame.draw.lines(win, self.color, False, updated_points, 2)\n",
    "\n",
    "\t\tpygame.draw.circle(win, self.color, (x, y), self.radius)\n",
    "\t\t\n",
    "\t\tif not self.sun:\n",
    "\t\t\tdistance_text = FONT.render(f\"{round(self.distance_to_sun/1000, 1)}km\", 1, WHITE)\n",
    "\t\t\twin.blit(distance_text, (x - distance_text.get_width()/2, y - distance_text.get_height()/2))\n",
    "\n",
    "\tdef attraction(self, other):\n",
    "\t\tother_x, other_y = other.x, other.y\n",
    "\t\tdistance_x = other_x - self.x\n",
    "\t\tdistance_y = other_y - self.y\n",
    "\t\tdistance = math.sqrt(distance_x ** 2 + distance_y ** 2)\n",
    "\n",
    "\t\tif other.sun:\n",
    "\t\t\tself.distance_to_sun = distance\n",
    "\n",
    "\t\tforce = self.G * self.mass * other.mass / distance**2\n",
    "\t\ttheta = math.atan2(distance_y, distance_x)\n",
    "\t\tforce_x = math.cos(theta) * force\n",
    "\t\tforce_y = math.sin(theta) * force\n",
    "\t\treturn force_x, force_y\n",
    "\n",
    "\tdef update_position(self, planets):\n",
    "\t\ttotal_fx = total_fy = 0\n",
    "\t\tfor planet in planets:\n",
    "\t\t\tif self == planet:\n",
    "\t\t\t\tcontinue\n",
    "\n",
    "\t\t\tfx, fy = self.attraction(planet)\n",
    "\t\t\ttotal_fx += fx\n",
    "\t\t\ttotal_fy += fy\n",
    "\n",
    "\t\tself.x_vel += total_fx / self.mass * self.TIMESTEP\n",
    "\t\tself.y_vel += total_fy / self.mass * self.TIMESTEP\n",
    "\n",
    "\t\tself.x += self.x_vel * self.TIMESTEP\n",
    "\t\tself.y += self.y_vel * self.TIMESTEP\n",
    "\t\tself.orbit.append((self.x, self.y))\n",
    "\n",
    "# main function: while-loop for running the program until window is closed\n",
    "def main():\n",
    "    # ending condition\n",
    "\trun = True\n",
    "    # synchronization of frame rate\n",
    "\tclock = pygame.time.Clock()\n",
    "\n",
    "\tsun = Planet(0, 0, 30, YELLOW, 1.98892 * 10**30)\n",
    "\tsun.sun = True\n",
    "\n",
    "\tearth = Planet(-1 * Planet.AU, 0, 16, BLUE, 5.9742 * 10**24)\n",
    "\tearth.y_vel = 29.783 * 1000 \n",
    "\n",
    "\tmars = Planet(-1.524 * Planet.AU, 0, 12, RED, 6.39 * 10**23)\n",
    "\tmars.y_vel = 24.077 * 1000\n",
    "\n",
    "\tmercury = Planet(0.387 * Planet.AU, 0, 8, DARK_GREY, 3.30 * 10**23)\n",
    "\tmercury.y_vel = -47.4 * 1000\n",
    "\n",
    "\tvenus = Planet(0.723 * Planet.AU, 0, 14, WHITE, 4.8685 * 10**24)\n",
    "\tvenus.y_vel = -35.02 * 1000\n",
    "\n",
    "\tplanets = [sun, earth, mars, mercury, venus]\n",
    "\n",
    "\twhile run:\n",
    "\t\tclock.tick(60)\n",
    "\t\tWIN.fill((0, 0, 0))\n",
    "\n",
    "        # returns a list of events in pygame\n",
    "\t\tfor event in pygame.event.get():\n",
    "\t\t\tif event.type == pygame.QUIT:\n",
    "\t\t\t\trun = False\n",
    "\n",
    "\t\tfor planet in planets:\n",
    "\t\t\tplanet.update_position(planets)\n",
    "\t\t\tplanet.draw(WIN)\n",
    "\n",
    "\t\tpygame.display.update()\n",
    "\n",
    "\tpygame.quit()\n",
    "\n",
    "\n",
    "# execute main-function\n",
    "main()"
   ]
  }
 ],
 "metadata": {
  "kernelspec": {
   "display_name": "Python 3 (ipykernel)",
   "language": "python",
   "name": "python3"
  },
  "language_info": {
   "codemirror_mode": {
    "name": "ipython",
    "version": 3
   },
   "file_extension": ".py",
   "mimetype": "text/x-python",
   "name": "python",
   "nbconvert_exporter": "python",
   "pygments_lexer": "ipython3",
   "version": "3.10.8"
  }
 },
 "nbformat": 4,
 "nbformat_minor": 5
}
